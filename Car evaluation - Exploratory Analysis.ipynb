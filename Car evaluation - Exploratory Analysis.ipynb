{
 "cells": [
  {
   "cell_type": "code",
   "execution_count": 259,
   "metadata": {},
   "outputs": [
    {
     "name": "stdout",
     "output_type": "stream",
     "text": [
      "Requirement already satisfied: Graphviz in c:\\users\\pkala\\anaconda3\\lib\\site-packages (0.16)\n",
      "Note: you may need to restart the kernel to use updated packages.\n"
     ]
    }
   ],
   "source": [
    "pip install Graphviz "
   ]
  },
  {
   "cell_type": "code",
   "execution_count": 263,
   "metadata": {},
   "outputs": [
    {
     "name": "stdout",
     "output_type": "stream",
     "text": [
      "Collecting package metadata (current_repodata.json): ...working... done\n",
      "Solving environment: ...working... done\n",
      "\n",
      "## Package Plan ##\n",
      "\n",
      "  environment location: C:\\Users\\pkala\\anaconda3\n",
      "\n",
      "  added / updated specs:\n",
      "    - python-graphviz\n",
      "\n",
      "\n",
      "The following packages will be downloaded:\n",
      "\n",
      "    package                    |            build\n",
      "    ---------------------------|-----------------\n",
      "    conda-4.9.2                |   py38haa95532_0         2.9 MB\n",
      "    graphviz-2.38              |       hfd603c8_2        29.3 MB\n",
      "    python-graphviz-0.16       |     pyhd3eb1b0_1          20 KB\n",
      "    ------------------------------------------------------------\n",
      "                                           Total:        32.2 MB\n",
      "\n",
      "The following NEW packages will be INSTALLED:\n",
      "\n",
      "  graphviz           pkgs/main/win-64::graphviz-2.38-hfd603c8_2\n",
      "  python-graphviz    pkgs/main/noarch::python-graphviz-0.16-pyhd3eb1b0_1\n",
      "\n",
      "The following packages will be SUPERSEDED by a higher-priority channel:\n",
      "\n",
      "  conda              conda-forge::conda-4.9.2-py38haa244fe~ --> pkgs/main::conda-4.9.2-py38haa95532_0\n",
      "\n",
      "\n",
      "\n",
      "Downloading and Extracting Packages\n",
      "\n",
      "conda-4.9.2          | 2.9 MB    |            |   0% \n",
      "conda-4.9.2          | 2.9 MB    |            |   1% \n",
      "conda-4.9.2          | 2.9 MB    | 9          |   9% \n",
      "conda-4.9.2          | 2.9 MB    | ##3        |  23% \n",
      "conda-4.9.2          | 2.9 MB    | ###2       |  32% \n",
      "conda-4.9.2          | 2.9 MB    | ####7      |  47% \n",
      "conda-4.9.2          | 2.9 MB    | #####7     |  58% \n",
      "conda-4.9.2          | 2.9 MB    | #######    |  71% \n",
      "conda-4.9.2          | 2.9 MB    | ########5  |  85% \n",
      "conda-4.9.2          | 2.9 MB    | #########9 |  99% \n",
      "conda-4.9.2          | 2.9 MB    | ########## | 100% \n",
      "\n",
      "python-graphviz-0.16 | 20 KB     |            |   0% \n",
      "python-graphviz-0.16 | 20 KB     | ########## | 100% \n",
      "python-graphviz-0.16 | 20 KB     | ########## | 100% \n",
      "\n",
      "graphviz-2.38        | 29.3 MB   |            |   0% \n",
      "graphviz-2.38        | 29.3 MB   | 1          |   1% \n",
      "graphviz-2.38        | 29.3 MB   | 2          |   2% \n",
      "graphviz-2.38        | 29.3 MB   | 3          |   3% \n",
      "graphviz-2.38        | 29.3 MB   | 4          |   5% \n",
      "graphviz-2.38        | 29.3 MB   | 5          |   6% \n",
      "graphviz-2.38        | 29.3 MB   | 7          |   7% \n",
      "graphviz-2.38        | 29.3 MB   | 8          |   8% \n",
      "graphviz-2.38        | 29.3 MB   | 9          |  10% \n",
      "graphviz-2.38        | 29.3 MB   | #          |  11% \n",
      "graphviz-2.38        | 29.3 MB   | #2         |  12% \n",
      "graphviz-2.38        | 29.3 MB   | #3         |  13% \n",
      "graphviz-2.38        | 29.3 MB   | #4         |  15% \n",
      "graphviz-2.38        | 29.3 MB   | #6         |  16% \n",
      "graphviz-2.38        | 29.3 MB   | #7         |  18% \n",
      "graphviz-2.38        | 29.3 MB   | #9         |  19% \n",
      "graphviz-2.38        | 29.3 MB   | ##         |  21% \n",
      "graphviz-2.38        | 29.3 MB   | ##1        |  22% \n",
      "graphviz-2.38        | 29.3 MB   | ##3        |  23% \n",
      "graphviz-2.38        | 29.3 MB   | ##4        |  25% \n",
      "graphviz-2.38        | 29.3 MB   | ##5        |  26% \n",
      "graphviz-2.38        | 29.3 MB   | ##7        |  27% \n",
      "graphviz-2.38        | 29.3 MB   | ##8        |  28% \n",
      "graphviz-2.38        | 29.3 MB   | ##9        |  30% \n",
      "graphviz-2.38        | 29.3 MB   | ###        |  31% \n",
      "graphviz-2.38        | 29.3 MB   | ###2       |  32% \n",
      "graphviz-2.38        | 29.3 MB   | ###3       |  33% \n",
      "graphviz-2.38        | 29.3 MB   | ###4       |  35% \n",
      "graphviz-2.38        | 29.3 MB   | ###6       |  36% \n",
      "graphviz-2.38        | 29.3 MB   | ###7       |  38% \n",
      "graphviz-2.38        | 29.3 MB   | ###8       |  39% \n",
      "graphviz-2.38        | 29.3 MB   | ####       |  40% \n",
      "graphviz-2.38        | 29.3 MB   | ####1      |  41% \n",
      "graphviz-2.38        | 29.3 MB   | ####2      |  43% \n",
      "graphviz-2.38        | 29.3 MB   | ####4      |  44% \n",
      "graphviz-2.38        | 29.3 MB   | ####5      |  46% \n",
      "graphviz-2.38        | 29.3 MB   | ####6      |  47% \n",
      "graphviz-2.38        | 29.3 MB   | ####8      |  48% \n",
      "graphviz-2.38        | 29.3 MB   | ####9      |  49% \n",
      "graphviz-2.38        | 29.3 MB   | #####      |  51% \n",
      "graphviz-2.38        | 29.3 MB   | #####2     |  52% \n",
      "graphviz-2.38        | 29.3 MB   | #####3     |  53% \n",
      "graphviz-2.38        | 29.3 MB   | #####4     |  55% \n",
      "graphviz-2.38        | 29.3 MB   | #####5     |  56% \n",
      "graphviz-2.38        | 29.3 MB   | #####7     |  57% \n",
      "graphviz-2.38        | 29.3 MB   | #####8     |  59% \n",
      "graphviz-2.38        | 29.3 MB   | #####9     |  60% \n",
      "graphviz-2.38        | 29.3 MB   | ######     |  61% \n",
      "graphviz-2.38        | 29.3 MB   | ######1    |  62% \n",
      "graphviz-2.38        | 29.3 MB   | ######3    |  63% \n",
      "graphviz-2.38        | 29.3 MB   | ######4    |  64% \n",
      "graphviz-2.38        | 29.3 MB   | ######5    |  66% \n",
      "graphviz-2.38        | 29.3 MB   | ######6    |  67% \n",
      "graphviz-2.38        | 29.3 MB   | ######8    |  68% \n",
      "graphviz-2.38        | 29.3 MB   | ######9    |  69% \n",
      "graphviz-2.38        | 29.3 MB   | #######    |  71% \n",
      "graphviz-2.38        | 29.3 MB   | #######2   |  72% \n",
      "graphviz-2.38        | 29.3 MB   | #######3   |  73% \n",
      "graphviz-2.38        | 29.3 MB   | #######4   |  75% \n",
      "graphviz-2.38        | 29.3 MB   | #######5   |  76% \n",
      "graphviz-2.38        | 29.3 MB   | #######7   |  77% \n",
      "graphviz-2.38        | 29.3 MB   | #######8   |  78% \n",
      "graphviz-2.38        | 29.3 MB   | #######9   |  80% \n",
      "graphviz-2.38        | 29.3 MB   | ########   |  81% \n",
      "graphviz-2.38        | 29.3 MB   | ########2  |  82% \n",
      "graphviz-2.38        | 29.3 MB   | ########3  |  83% \n",
      "graphviz-2.38        | 29.3 MB   | ########4  |  85% \n",
      "graphviz-2.38        | 29.3 MB   | ########5  |  86% \n",
      "graphviz-2.38        | 29.3 MB   | ########7  |  87% \n",
      "graphviz-2.38        | 29.3 MB   | ########8  |  88% \n",
      "graphviz-2.38        | 29.3 MB   | ########9  |  90% \n",
      "graphviz-2.38        | 29.3 MB   | #########  |  91% \n",
      "graphviz-2.38        | 29.3 MB   | #########2 |  92% \n",
      "graphviz-2.38        | 29.3 MB   | #########3 |  93% \n",
      "graphviz-2.38        | 29.3 MB   | #########4 |  95% \n",
      "graphviz-2.38        | 29.3 MB   | #########5 |  96% \n",
      "graphviz-2.38        | 29.3 MB   | #########7 |  97% \n",
      "graphviz-2.38        | 29.3 MB   | #########8 |  98% \n",
      "graphviz-2.38        | 29.3 MB   | #########9 |  99% \n",
      "graphviz-2.38        | 29.3 MB   | ########## | 100% \n",
      "Preparing transaction: ...working... done\n",
      "Verifying transaction: ...working... done\n",
      "Executing transaction: ...working... done\n",
      "\n",
      "Note: you may need to restart the kernel to use updated packages.\n"
     ]
    }
   ],
   "source": [
    "conda install python-graphviz"
   ]
  },
  {
   "cell_type": "code",
   "execution_count": 264,
   "metadata": {},
   "outputs": [
    {
     "name": "stdout",
     "output_type": "stream",
     "text": [
      "Collecting package metadata (current_repodata.json): ...working... done\n",
      "Solving environment: ...working... done\n",
      "\n",
      "# All requested packages already installed.\n",
      "\n",
      "\n",
      "Note: you may need to restart the kernel to use updated packages.\n"
     ]
    }
   ],
   "source": [
    "conda install graphviz python-graphviz"
   ]
  },
  {
   "cell_type": "code",
   "execution_count": 352,
   "metadata": {},
   "outputs": [],
   "source": [
    "# linear algebra\n",
    "import numpy as np \n",
    "\n",
    "# data processing\n",
    "import pandas as pd \n",
    "\n",
    "# data visualization\n",
    "import seaborn as sns\n",
    "%matplotlib inline\n",
    "from matplotlib import pyplot as plt\n",
    "from matplotlib import style\n",
    "import plotly.graph_objects as go\n",
    "import numpy as np\n",
    "import warnings\n",
    "warnings.filterwarnings('ignore')\n",
    "import graphviz \n",
    "from graphviz import Source\n",
    "from IPython.display import SVG\n",
    "\n",
    "# CWD file path\n",
    "import os\n",
    "\n",
    "from apyori import apriori\n",
    "from mlxtend.frequent_patterns import apriori, association_rules\n",
    "import matplotlib.pyplot as plt\n",
    "\n",
    "from sklearn.cluster import KMeans\n",
    "import matplotlib.pyplot as plt\n",
    "from kneed import KneeLocator\n",
    "from sklearn.datasets import make_blobs\n",
    "from sklearn.cluster import KMeans\n",
    "from sklearn.metrics import silhouette_score\n",
    "from sklearn.preprocessing import StandardScaler\n",
    "from sklearn.linear_model import LogisticRegression\n",
    "from sklearn import metrics\n",
    "from sklearn.tree import DecisionTreeClassifier\n",
    "from sklearn.neighbors import KNeighborsClassifier\n",
    "from sklearn.naive_bayes import GaussianNB\n",
    "\n",
    "from sklearn.preprocessing import LabelEncoder #for train test splitting\n",
    "from sklearn.model_selection import train_test_split #for decision tree object\n",
    "from sklearn.metrics import classification_report, confusion_matrix, accuracy_score  #for visualizing tree \n",
    "from sklearn.naive_bayes import GaussianNB\n",
    "\n",
    "from sklearn.tree import plot_tree\n",
    "from sklearn import datasets\n",
    "from sklearn import tree\n",
    "from sklearn import metrics\n",
    "\n",
    "from sklearn.linear_model import LogisticRegression\n",
    "from sklearn import tree\n",
    "from sklearn.tree.export import export_text\n",
    "from sklearn.neural_network import MLPClassifier\n",
    "from sklearn.model_selection import GridSearchCV\n",
    "from sklearn.model_selection import train_test_split, cross_val_score\n",
    "\n",
    "##################################\n",
    "\n",
    "### Metrics ###\n",
    "from sklearn import metrics\n",
    "from sklearn.metrics import confusion_matrix, mean_squared_error, mean_absolute_error, classification_report"
   ]
  },
  {
   "cell_type": "code",
   "execution_count": 353,
   "metadata": {},
   "outputs": [
    {
     "data": {
      "text/plain": [
       "'C:\\\\Users\\\\pkala'"
      ]
     },
     "execution_count": 353,
     "metadata": {},
     "output_type": "execute_result"
    }
   ],
   "source": [
    "cd = os.getcwd()\n",
    "cd"
   ]
  },
  {
   "cell_type": "code",
   "execution_count": 354,
   "metadata": {},
   "outputs": [],
   "source": [
    "Carevaluation = pd.read_csv(cd+\"/Car evaluation.csv\",index_col=0)"
   ]
  },
  {
   "cell_type": "code",
   "execution_count": 355,
   "metadata": {},
   "outputs": [
    {
     "name": "stdout",
     "output_type": "stream",
     "text": [
      "<class 'pandas.core.frame.DataFrame'>\n",
      "Int64Index: 1728 entries, 1 to 1728\n",
      "Data columns (total 7 columns):\n",
      " #   Column            Non-Null Count  Dtype \n",
      "---  ------            --------------  ----- \n",
      " 0   PurchasePrice     1728 non-null   object\n",
      " 1   MaintenanceCosts  1728 non-null   object\n",
      " 2   Doors             1728 non-null   object\n",
      " 3   Persons           1728 non-null   object\n",
      " 4   LuggaeBoot        1728 non-null   object\n",
      " 5   Safety            1728 non-null   object\n",
      " 6   Rating            1728 non-null   object\n",
      "dtypes: object(7)\n",
      "memory usage: 108.0+ KB\n"
     ]
    }
   ],
   "source": [
    "Carevaluation.info()"
   ]
  },
  {
   "cell_type": "code",
   "execution_count": 356,
   "metadata": {},
   "outputs": [
    {
     "data": {
      "text/html": [
       "<div>\n",
       "<style scoped>\n",
       "    .dataframe tbody tr th:only-of-type {\n",
       "        vertical-align: middle;\n",
       "    }\n",
       "\n",
       "    .dataframe tbody tr th {\n",
       "        vertical-align: top;\n",
       "    }\n",
       "\n",
       "    .dataframe thead th {\n",
       "        text-align: right;\n",
       "    }\n",
       "</style>\n",
       "<table border=\"1\" class=\"dataframe\">\n",
       "  <thead>\n",
       "    <tr style=\"text-align: right;\">\n",
       "      <th></th>\n",
       "      <th>PurchasePrice</th>\n",
       "      <th>MaintenanceCosts</th>\n",
       "      <th>Doors</th>\n",
       "      <th>Persons</th>\n",
       "      <th>LuggaeBoot</th>\n",
       "      <th>Safety</th>\n",
       "      <th>Rating</th>\n",
       "    </tr>\n",
       "    <tr>\n",
       "      <th>VehicleNumber</th>\n",
       "      <th></th>\n",
       "      <th></th>\n",
       "      <th></th>\n",
       "      <th></th>\n",
       "      <th></th>\n",
       "      <th></th>\n",
       "      <th></th>\n",
       "    </tr>\n",
       "  </thead>\n",
       "  <tbody>\n",
       "    <tr>\n",
       "      <th>1</th>\n",
       "      <td>vhigh</td>\n",
       "      <td>vhigh</td>\n",
       "      <td>2</td>\n",
       "      <td>2</td>\n",
       "      <td>small</td>\n",
       "      <td>low</td>\n",
       "      <td>unacc</td>\n",
       "    </tr>\n",
       "    <tr>\n",
       "      <th>2</th>\n",
       "      <td>vhigh</td>\n",
       "      <td>vhigh</td>\n",
       "      <td>2</td>\n",
       "      <td>2</td>\n",
       "      <td>small</td>\n",
       "      <td>med</td>\n",
       "      <td>unacc</td>\n",
       "    </tr>\n",
       "    <tr>\n",
       "      <th>3</th>\n",
       "      <td>vhigh</td>\n",
       "      <td>vhigh</td>\n",
       "      <td>2</td>\n",
       "      <td>2</td>\n",
       "      <td>small</td>\n",
       "      <td>high</td>\n",
       "      <td>unacc</td>\n",
       "    </tr>\n",
       "    <tr>\n",
       "      <th>4</th>\n",
       "      <td>vhigh</td>\n",
       "      <td>vhigh</td>\n",
       "      <td>2</td>\n",
       "      <td>2</td>\n",
       "      <td>med</td>\n",
       "      <td>low</td>\n",
       "      <td>unacc</td>\n",
       "    </tr>\n",
       "    <tr>\n",
       "      <th>5</th>\n",
       "      <td>vhigh</td>\n",
       "      <td>vhigh</td>\n",
       "      <td>2</td>\n",
       "      <td>2</td>\n",
       "      <td>med</td>\n",
       "      <td>med</td>\n",
       "      <td>unacc</td>\n",
       "    </tr>\n",
       "  </tbody>\n",
       "</table>\n",
       "</div>"
      ],
      "text/plain": [
       "              PurchasePrice MaintenanceCosts Doors Persons LuggaeBoot Safety  \\\n",
       "VehicleNumber                                                                  \n",
       "1                     vhigh            vhigh     2       2      small    low   \n",
       "2                     vhigh            vhigh     2       2      small    med   \n",
       "3                     vhigh            vhigh     2       2      small   high   \n",
       "4                     vhigh            vhigh     2       2        med    low   \n",
       "5                     vhigh            vhigh     2       2        med    med   \n",
       "\n",
       "              Rating  \n",
       "VehicleNumber         \n",
       "1              unacc  \n",
       "2              unacc  \n",
       "3              unacc  \n",
       "4              unacc  \n",
       "5              unacc  "
      ]
     },
     "execution_count": 356,
     "metadata": {},
     "output_type": "execute_result"
    }
   ],
   "source": [
    "Carevaluation.head()"
   ]
  },
  {
   "cell_type": "code",
   "execution_count": 357,
   "metadata": {},
   "outputs": [
    {
     "data": {
      "text/html": [
       "<div>\n",
       "<style scoped>\n",
       "    .dataframe tbody tr th:only-of-type {\n",
       "        vertical-align: middle;\n",
       "    }\n",
       "\n",
       "    .dataframe tbody tr th {\n",
       "        vertical-align: top;\n",
       "    }\n",
       "\n",
       "    .dataframe thead th {\n",
       "        text-align: right;\n",
       "    }\n",
       "</style>\n",
       "<table border=\"1\" class=\"dataframe\">\n",
       "  <thead>\n",
       "    <tr style=\"text-align: right;\">\n",
       "      <th></th>\n",
       "      <th>PurchasePrice</th>\n",
       "      <th>MaintenanceCosts</th>\n",
       "      <th>Doors</th>\n",
       "      <th>Persons</th>\n",
       "      <th>LuggaeBoot</th>\n",
       "      <th>Safety</th>\n",
       "      <th>Rating</th>\n",
       "    </tr>\n",
       "  </thead>\n",
       "  <tbody>\n",
       "    <tr>\n",
       "      <th>count</th>\n",
       "      <td>1728</td>\n",
       "      <td>1728</td>\n",
       "      <td>1728</td>\n",
       "      <td>1728</td>\n",
       "      <td>1728</td>\n",
       "      <td>1728</td>\n",
       "      <td>1728</td>\n",
       "    </tr>\n",
       "    <tr>\n",
       "      <th>unique</th>\n",
       "      <td>4</td>\n",
       "      <td>4</td>\n",
       "      <td>4</td>\n",
       "      <td>3</td>\n",
       "      <td>3</td>\n",
       "      <td>3</td>\n",
       "      <td>4</td>\n",
       "    </tr>\n",
       "    <tr>\n",
       "      <th>top</th>\n",
       "      <td>med</td>\n",
       "      <td>med</td>\n",
       "      <td>5more</td>\n",
       "      <td>4</td>\n",
       "      <td>small</td>\n",
       "      <td>med</td>\n",
       "      <td>unacc</td>\n",
       "    </tr>\n",
       "    <tr>\n",
       "      <th>freq</th>\n",
       "      <td>432</td>\n",
       "      <td>432</td>\n",
       "      <td>432</td>\n",
       "      <td>576</td>\n",
       "      <td>576</td>\n",
       "      <td>576</td>\n",
       "      <td>1210</td>\n",
       "    </tr>\n",
       "  </tbody>\n",
       "</table>\n",
       "</div>"
      ],
      "text/plain": [
       "       PurchasePrice MaintenanceCosts  Doors Persons LuggaeBoot Safety Rating\n",
       "count           1728             1728   1728    1728       1728   1728   1728\n",
       "unique             4                4      4       3          3      3      4\n",
       "top              med              med  5more       4      small    med  unacc\n",
       "freq             432              432    432     576        576    576   1210"
      ]
     },
     "execution_count": 357,
     "metadata": {},
     "output_type": "execute_result"
    }
   ],
   "source": [
    "Carevaluation.describe()"
   ]
  },
  {
   "cell_type": "code",
   "execution_count": 358,
   "metadata": {},
   "outputs": [
    {
     "data": {
      "text/plain": [
       "PurchasePrice       0\n",
       "MaintenanceCosts    0\n",
       "Doors               0\n",
       "Persons             0\n",
       "LuggaeBoot          0\n",
       "Safety              0\n",
       "Rating              0\n",
       "dtype: int64"
      ]
     },
     "execution_count": 358,
     "metadata": {},
     "output_type": "execute_result"
    }
   ],
   "source": [
    "# Data Preparation & Clean up\n",
    "Carevaluation.isnull().sum() "
   ]
  },
  {
   "cell_type": "code",
   "execution_count": 359,
   "metadata": {},
   "outputs": [],
   "source": [
    "# Data Mapping\n",
    "Carevaluation['PurchasePrice'] = Carevaluation['PurchasePrice'].replace('low', 0)\n",
    "Carevaluation['PurchasePrice'] = Carevaluation['PurchasePrice'].replace('med', 1)\n",
    "Carevaluation['PurchasePrice'] = Carevaluation['PurchasePrice'].replace('high', 2)\n",
    "Carevaluation['PurchasePrice'] = Carevaluation['PurchasePrice'].replace('vhigh', 3)\n"
   ]
  },
  {
   "cell_type": "code",
   "execution_count": 360,
   "metadata": {},
   "outputs": [],
   "source": [
    "# String to Integer Conversion\n",
    "Carevaluation['PurchasePrice'] = Carevaluation['PurchasePrice'].astype('int')"
   ]
  },
  {
   "cell_type": "code",
   "execution_count": 361,
   "metadata": {},
   "outputs": [],
   "source": [
    "# Data Mapping\n",
    "Carevaluation['MaintenanceCosts'] = Carevaluation['MaintenanceCosts'].replace('low', 0)\n",
    "Carevaluation['MaintenanceCosts'] = Carevaluation['MaintenanceCosts'].replace('med', 1)\n",
    "Carevaluation['MaintenanceCosts'] = Carevaluation['MaintenanceCosts'].replace('high', 2)\n",
    "Carevaluation['MaintenanceCosts'] = Carevaluation['MaintenanceCosts'].replace('vhigh', 3)"
   ]
  },
  {
   "cell_type": "code",
   "execution_count": 362,
   "metadata": {},
   "outputs": [],
   "source": [
    "# String to Integer Conversion\n",
    "Carevaluation['MaintenanceCosts'] = Carevaluation['MaintenanceCosts'].astype('int')"
   ]
  },
  {
   "cell_type": "code",
   "execution_count": 363,
   "metadata": {},
   "outputs": [],
   "source": [
    "# Data Mapping\n",
    "Carevaluation['Doors'] = Carevaluation['Doors'].replace('5more', 5)\n",
    "# String to Integer Conversion\n",
    "Carevaluation['Doors'] = Carevaluation['Doors'].astype('int')\n"
   ]
  },
  {
   "cell_type": "code",
   "execution_count": 364,
   "metadata": {},
   "outputs": [],
   "source": [
    "Carevaluation['Persons'] = Carevaluation['Persons'].replace('more', 5)\n",
    "Carevaluation['Persons'] = Carevaluation['Persons'].astype('int')"
   ]
  },
  {
   "cell_type": "code",
   "execution_count": 365,
   "metadata": {},
   "outputs": [],
   "source": [
    "Carevaluation['LuggaeBoot'] = Carevaluation['LuggaeBoot'].replace('small', 0)\n",
    "Carevaluation['LuggaeBoot'] = Carevaluation['LuggaeBoot'].replace('med', 1)\n",
    "Carevaluation['LuggaeBoot'] = Carevaluation['LuggaeBoot'].replace('big', 2)\n",
    "Carevaluation['LuggaeBoot'] = Carevaluation['LuggaeBoot'].astype('int')"
   ]
  },
  {
   "cell_type": "code",
   "execution_count": 366,
   "metadata": {},
   "outputs": [],
   "source": [
    "# Data Mapping\n",
    "Carevaluation['Safety'] = Carevaluation['Safety'].replace('low', 0)\n",
    "Carevaluation['Safety'] = Carevaluation['Safety'].replace('med', 1)\n",
    "Carevaluation['Safety'] = Carevaluation['Safety'].replace('high', 2)\n",
    "Carevaluation['Safety'] = Carevaluation['Safety'].astype('int')"
   ]
  },
  {
   "cell_type": "code",
   "execution_count": 367,
   "metadata": {},
   "outputs": [],
   "source": [
    "Carevaluation['Rating'] = Carevaluation['Rating'].replace('good', 1)\n",
    "Carevaluation['Rating'] = Carevaluation['Rating'].replace('vgood', 2)\n",
    "Carevaluation['Rating'] = Carevaluation['Rating'].replace('acc', 3)\n",
    "Carevaluation['Rating'] = Carevaluation['Rating'].replace('unacc', 4)"
   ]
  },
  {
   "cell_type": "code",
   "execution_count": 369,
   "metadata": {},
   "outputs": [],
   "source": [
    "Carevaluation['Rating'] = Carevaluation['Rating'].astype('int')"
   ]
  },
  {
   "cell_type": "code",
   "execution_count": 370,
   "metadata": {},
   "outputs": [
    {
     "data": {
      "text/plain": [
       "<matplotlib.axes._subplots.AxesSubplot at 0x197dc590310>"
      ]
     },
     "execution_count": 370,
     "metadata": {},
     "output_type": "execute_result"
    },
    {
     "data": {
      "image/png": "[encoded data removed]",
      "text/plain": [
       "<Figure size 432x288 with 1 Axes>"
      ]
     },
     "metadata": {
      "needs_background": "light"
     },
     "output_type": "display_data"
    }
   ],
   "source": [
    "#Below is the graph which gives the count of unique values in Rating.\n",
    "\n",
    "sns.countplot(Carevaluation['Rating']) "
   ]
  },
  {
   "cell_type": "code",
   "execution_count": 284,
   "metadata": {},
   "outputs": [
    {
     "data": {
      "image/png": "[encoded data removed]",
      "text/plain": [
       "<Figure size 864x432 with 1 Axes>"
      ]
     },
     "metadata": {
      "needs_background": "light"
     },
     "output_type": "display_data"
    },
    {
     "data": {
      "image/png": "[encoded data removed]",
      "text/plain": [
       "<Figure size 864x432 with 1 Axes>"
      ]
     },
     "metadata": {
      "needs_background": "light"
     },
     "output_type": "display_data"
    },
    {
     "data": {
      "image/png": "[encoded data removed]",
      "text/plain": [
       "<Figure size 864x432 with 1 Axes>"
      ]
     },
     "metadata": {
      "needs_background": "light"
     },
     "output_type": "display_data"
    },
    {
     "data": {
      "image/png": "[encoded data removed]",
      "text/plain": [
       "<Figure size 864x432 with 1 Axes>"
      ]
     },
     "metadata": {
      "needs_background": "light"
     },
     "output_type": "display_data"
    },
    {
     "data": {
      "image/png": "[encoded data removed]",
      "text/plain": [
       "<Figure size 864x432 with 1 Axes>"
      ]
     },
     "metadata": {
      "needs_background": "light"
     },
     "output_type": "display_data"
    },
    {
     "data": {
      "image/png": "[encoded data removed]",
      "text/plain": [
       "<Figure size 864x432 with 1 Axes>"
      ]
     },
     "metadata": {
      "needs_background": "light"
     },
     "output_type": "display_data"
    }
   ],
   "source": [
    "#from the graph that the result 'Rating' is unbalanced with larger values of 'unacc'.This is an unbalanced multiclass classification problem.\n",
    "#checked how the 'class' is distributed for each of the feature in our data.\n",
    "\n",
    "for i in Carevaluation.columns[:-1]:\n",
    "    plt.figure(figsize=(12,6))\n",
    "    plt.title(\"For feature '%s'\"%i)\n",
    "    sns.countplot(Carevaluation[i],hue=Carevaluation['Rating']) "
   ]
  },
  {
   "cell_type": "code",
   "execution_count": 285,
   "metadata": {},
   "outputs": [],
   "source": [
    "from sklearn.preprocessing import LabelEncoder"
   ]
  },
  {
   "cell_type": "code",
   "execution_count": 286,
   "metadata": {},
   "outputs": [
    {
     "data": {
      "text/plain": [
       "<matplotlib.axes._subplots.AxesSubplot at 0x197e60fbac0>"
      ]
     },
     "execution_count": 286,
     "metadata": {},
     "output_type": "execute_result"
    },
    {
     "data": {
      "image/png": "[encoded data removed]",
      "text/plain": [
       "<Figure size 720x432 with 2 Axes>"
      ]
     },
     "metadata": {
      "needs_background": "light"
     },
     "output_type": "display_data"
    }
   ],
   "source": [
    "#Heatmap of the columns on dataset. It shows Pearson's correlation coefficient of column w.r.t other columns.\n",
    "\n",
    "fig=plt.figure(figsize=(10,6))\n",
    "sns.heatmap(Carevaluation.corr(),annot=True)"
   ]
  },
  {
   "cell_type": "code",
   "execution_count": 287,
   "metadata": {},
   "outputs": [],
   "source": [
    "#Ignoring the diagonal values, it can be seen that most of the columns shows very weak correlation with 'Rating'.\n",
    "#'persons' column is showning a weak relation with 'Rating'. \n",
    "#Other columns except 'Rating' shows no correlation with each other.\n",
    "#So, plotting these columns with each other or doing any analysis on them may not give any productive output."
   ]
  },
  {
   "cell_type": "code",
   "execution_count": 288,
   "metadata": {},
   "outputs": [],
   "source": [
    "#X is the dataframe containing input data / features\n",
    "#y is the series which has results which are to be predicted.\n",
    "\n",
    "#X=Carevaluation[Carevaluation.columns[:-1]]\n",
    "#y=Carevaluation['Rating'] \n",
    "X = Carevaluation.drop(\"Rating\", axis=1)\n",
    "Y = Carevaluation[\"Rating\"]"
   ]
  },
  {
   "cell_type": "code",
   "execution_count": 289,
   "metadata": {},
   "outputs": [
    {
     "data": {
      "text/plain": [
       "VehicleNumber\n",
       "1    4\n",
       "2    4\n",
       "Name: Rating, dtype: int32"
      ]
     },
     "execution_count": 289,
     "metadata": {},
     "output_type": "execute_result"
    }
   ],
   "source": [
    "\n",
    "X.head(2)\n",
    "Y.head(2)"
   ]
  },
  {
   "cell_type": "code",
   "execution_count": 290,
   "metadata": {},
   "outputs": [],
   "source": [
    "#Divide data in train and test sets\n",
    "from sklearn.model_selection import train_test_split"
   ]
  },
  {
   "cell_type": "code",
   "execution_count": 291,
   "metadata": {},
   "outputs": [],
   "source": [
    "X_train, X_test, y_train, y_test = train_test_split(X, y, test_size=0.3, random_state=0)"
   ]
  },
  {
   "cell_type": "code",
   "execution_count": 292,
   "metadata": {},
   "outputs": [
    {
     "name": "stdout",
     "output_type": "stream",
     "text": [
      "Training split input-  (1209, 6)\n",
      "Testing split input-  (519, 6)\n"
     ]
    }
   ],
   "source": [
    "# Logistic Regression Model\n",
    "\n",
    "print(\"Training split input- \", X_train.shape)\n",
    "print(\"Testing split input- \", X_test.shape)"
   ]
  },
  {
   "cell_type": "code",
   "execution_count": 293,
   "metadata": {},
   "outputs": [
    {
     "name": "stdout",
     "output_type": "stream",
     "text": [
      "              precision    recall  f1-score   support\n",
      "\n",
      "           1       0.64      0.28      0.39        25\n",
      "           2       0.71      0.75      0.73        16\n",
      "           3       0.66      0.68      0.67       115\n",
      "           4       0.91      0.93      0.92       363\n",
      "\n",
      "    accuracy                           0.84       519\n",
      "   macro avg       0.73      0.66      0.68       519\n",
      "weighted avg       0.84      0.84      0.83       519\n",
      "\n",
      "Accuracy of Logistic Regression Model on Car evaluation : 84.01\n"
     ]
    }
   ],
   "source": [
    "LogisticRegression_Model = LogisticRegression()\n",
    "LogisticRegression_Model.fit(X_train, y_train)\n",
    "\n",
    "Y_Pred=LogisticRegression_Model.predict(X_test);\n",
    "print(classification_report(y_test, Y_Pred))\n",
    "print('Accuracy of Logistic Regression Model on Car evaluation : {:.2f}'.format(round(LogisticRegression_Model.score(X_test, y_test) * 100, 2)));"
   ]
  },
  {
   "cell_type": "code",
   "execution_count": 294,
   "metadata": {
    "scrolled": true
   },
   "outputs": [
    {
     "data": {
      "image/png": "[encoded data removed]",
      "text/plain": [
       "<Figure size 576x576 with 1 Axes>"
      ]
     },
     "metadata": {
      "needs_background": "light"
     },
     "output_type": "display_data"
    }
   ],
   "source": [
    "# Plot confusion matrix for Logistic regression.\n",
    "logreg_matrix = confusion_matrix(y_test,Y_Pred)\n",
    "plt.figure(figsize=(8,8))\n",
    "sns.set(font_scale=1.4)\n",
    "sns.heatmap(logreg_matrix,annot=True, cbar=False, cmap='twilight',linewidth=0.5,fmt=\"d\")\n",
    "plt.ylabel('True Label')\n",
    "plt.xlabel('Predicted Label')\n",
    "plt.title('Confusion Matrix for Logistic Regression');"
   ]
  },
  {
   "cell_type": "code",
   "execution_count": 295,
   "metadata": {},
   "outputs": [
    {
     "data": {
      "text/plain": [
       "DecisionTreeClassifier(criterion='entropy', max_depth=5, random_state=42)"
      ]
     },
     "execution_count": 295,
     "metadata": {},
     "output_type": "execute_result"
    }
   ],
   "source": [
    "# Decision tree\n",
    "# Initialize a decision tree estimator.\n",
    "tr = DecisionTreeClassifier(max_depth=5, criterion='entropy', random_state=42)\n",
    "\n",
    "# Train the estimator.\n",
    "tr.fit(X_train, y_train)"
   ]
  },
  {
   "cell_type": "code",
   "execution_count": 296,
   "metadata": {},
   "outputs": [
    {
     "data": {
      "text/plain": [
       "Index(['PurchasePrice', 'MaintenanceCosts', 'Doors', 'Persons', 'LuggaeBoot',\n",
       "       'Safety', 'Rating'],\n",
       "      dtype='object')"
      ]
     },
     "execution_count": 296,
     "metadata": {},
     "output_type": "execute_result"
    }
   ],
   "source": [
    "Carevaluation.columns"
   ]
  },
  {
   "cell_type": "code",
   "execution_count": 297,
   "metadata": {},
   "outputs": [
    {
     "ename": "ExecutableNotFound",
     "evalue": "failed to execute ['dot', '-Kdot', '-Tsvg'], make sure the Graphviz executables are on your systems' PATH",
     "output_type": "error",
     "traceback": [
      "\u001b[1;31m---------------------------------------------------------------------------\u001b[0m",
      "\u001b[1;31mFileNotFoundError\u001b[0m                         Traceback (most recent call last)",
      "\u001b[1;32m~\\anaconda3\\lib\\site-packages\\graphviz\\backend.py\u001b[0m in \u001b[0;36mrun\u001b[1;34m(cmd, input, capture_output, check, encoding, quiet, **kwargs)\u001b[0m\n\u001b[0;32m    163\u001b[0m         \u001b[0mkwargs\u001b[0m\u001b[1;33m[\u001b[0m\u001b[1;34m'stdout'\u001b[0m\u001b[1;33m]\u001b[0m \u001b[1;33m=\u001b[0m \u001b[0mkwargs\u001b[0m\u001b[1;33m[\u001b[0m\u001b[1;34m'stderr'\u001b[0m\u001b[1;33m]\u001b[0m \u001b[1;33m=\u001b[0m \u001b[0msubprocess\u001b[0m\u001b[1;33m.\u001b[0m\u001b[0mPIPE\u001b[0m\u001b[1;33m\u001b[0m\u001b[1;33m\u001b[0m\u001b[0m\n\u001b[1;32m--> 164\u001b[1;33m \u001b[1;33m\u001b[0m\u001b[0m\n\u001b[0m\u001b[0;32m    165\u001b[0m     \u001b[1;32mtry\u001b[0m\u001b[1;33m:\u001b[0m\u001b[1;33m\u001b[0m\u001b[1;33m\u001b[0m\u001b[0m\n",
      "\u001b[1;32m~\\anaconda3\\lib\\subprocess.py\u001b[0m in \u001b[0;36m__init__\u001b[1;34m(self, args, bufsize, executable, stdin, stdout, stderr, preexec_fn, close_fds, shell, cwd, env, universal_newlines, startupinfo, creationflags, restore_signals, start_new_session, pass_fds, encoding, errors, text)\u001b[0m\n\u001b[0;32m    853\u001b[0m \u001b[1;33m\u001b[0m\u001b[0m\n\u001b[1;32m--> 854\u001b[1;33m             self._execute_child(args, executable, preexec_fn, close_fds,\n\u001b[0m\u001b[0;32m    855\u001b[0m                                 \u001b[0mpass_fds\u001b[0m\u001b[1;33m,\u001b[0m \u001b[0mcwd\u001b[0m\u001b[1;33m,\u001b[0m \u001b[0menv\u001b[0m\u001b[1;33m,\u001b[0m\u001b[1;33m\u001b[0m\u001b[1;33m\u001b[0m\u001b[0m\n",
      "\u001b[1;32m~\\anaconda3\\lib\\subprocess.py\u001b[0m in \u001b[0;36m_execute_child\u001b[1;34m(self, args, executable, preexec_fn, close_fds, pass_fds, cwd, env, startupinfo, creationflags, shell, p2cread, p2cwrite, c2pread, c2pwrite, errread, errwrite, unused_restore_signals, unused_start_new_session)\u001b[0m\n\u001b[0;32m   1306\u001b[0m             \u001b[1;32mtry\u001b[0m\u001b[1;33m:\u001b[0m\u001b[1;33m\u001b[0m\u001b[1;33m\u001b[0m\u001b[0m\n\u001b[1;32m-> 1307\u001b[1;33m                 hp, ht, pid, tid = _winapi.CreateProcess(executable, args,\n\u001b[0m\u001b[0;32m   1308\u001b[0m                                          \u001b[1;31m# no special security\u001b[0m\u001b[1;33m\u001b[0m\u001b[1;33m\u001b[0m\u001b[1;33m\u001b[0m\u001b[0m\n",
      "\u001b[1;31mFileNotFoundError\u001b[0m: [WinError 2] The system cannot find the file specified",
      "\nDuring handling of the above exception, another exception occurred:\n",
      "\u001b[1;31mExecutableNotFound\u001b[0m                        Traceback (most recent call last)",
      "\u001b[1;32m~\\anaconda3\\lib\\site-packages\\IPython\\core\\formatters.py\u001b[0m in \u001b[0;36m__call__\u001b[1;34m(self, obj)\u001b[0m\n\u001b[0;32m    343\u001b[0m             \u001b[0mmethod\u001b[0m \u001b[1;33m=\u001b[0m \u001b[0mget_real_method\u001b[0m\u001b[1;33m(\u001b[0m\u001b[0mobj\u001b[0m\u001b[1;33m,\u001b[0m \u001b[0mself\u001b[0m\u001b[1;33m.\u001b[0m\u001b[0mprint_method\u001b[0m\u001b[1;33m)\u001b[0m\u001b[1;33m\u001b[0m\u001b[1;33m\u001b[0m\u001b[0m\n\u001b[0;32m    344\u001b[0m             \u001b[1;32mif\u001b[0m \u001b[0mmethod\u001b[0m \u001b[1;32mis\u001b[0m \u001b[1;32mnot\u001b[0m \u001b[1;32mNone\u001b[0m\u001b[1;33m:\u001b[0m\u001b[1;33m\u001b[0m\u001b[1;33m\u001b[0m\u001b[0m\n\u001b[1;32m--> 345\u001b[1;33m                 \u001b[1;32mreturn\u001b[0m \u001b[0mmethod\u001b[0m\u001b[1;33m(\u001b[0m\u001b[1;33m)\u001b[0m\u001b[1;33m\u001b[0m\u001b[1;33m\u001b[0m\u001b[0m\n\u001b[0m\u001b[0;32m    346\u001b[0m             \u001b[1;32mreturn\u001b[0m \u001b[1;32mNone\u001b[0m\u001b[1;33m\u001b[0m\u001b[1;33m\u001b[0m\u001b[0m\n\u001b[0;32m    347\u001b[0m         \u001b[1;32melse\u001b[0m\u001b[1;33m:\u001b[0m\u001b[1;33m\u001b[0m\u001b[1;33m\u001b[0m\u001b[0m\n",
      "\u001b[1;32m~\\anaconda3\\lib\\site-packages\\graphviz\\files.py\u001b[0m in \u001b[0;36m_repr_svg_\u001b[1;34m(self)\u001b[0m\n\u001b[0;32m    142\u001b[0m \u001b[1;33m\u001b[0m\u001b[0m\n\u001b[0;32m    143\u001b[0m     \u001b[1;32mdef\u001b[0m \u001b[0m_repr_svg_\u001b[0m\u001b[1;33m(\u001b[0m\u001b[0mself\u001b[0m\u001b[1;33m)\u001b[0m\u001b[1;33m:\u001b[0m\u001b[1;33m\u001b[0m\u001b[1;33m\u001b[0m\u001b[0m\n\u001b[1;32m--> 144\u001b[1;33m         \u001b[1;32mreturn\u001b[0m \u001b[0mself\u001b[0m\u001b[1;33m.\u001b[0m\u001b[0mpipe\u001b[0m\u001b[1;33m(\u001b[0m\u001b[0mformat\u001b[0m\u001b[1;33m=\u001b[0m\u001b[1;34m'svg'\u001b[0m\u001b[1;33m)\u001b[0m\u001b[1;33m.\u001b[0m\u001b[0mdecode\u001b[0m\u001b[1;33m(\u001b[0m\u001b[0mself\u001b[0m\u001b[1;33m.\u001b[0m\u001b[0m_encoding\u001b[0m\u001b[1;33m)\u001b[0m\u001b[1;33m\u001b[0m\u001b[1;33m\u001b[0m\u001b[0m\n\u001b[0m\u001b[0;32m    145\u001b[0m \u001b[1;33m\u001b[0m\u001b[0m\n\u001b[0;32m    146\u001b[0m     \u001b[1;32mdef\u001b[0m \u001b[0mpipe\u001b[0m\u001b[1;33m(\u001b[0m\u001b[0mself\u001b[0m\u001b[1;33m,\u001b[0m \u001b[0mformat\u001b[0m\u001b[1;33m=\u001b[0m\u001b[1;32mNone\u001b[0m\u001b[1;33m,\u001b[0m \u001b[0mrenderer\u001b[0m\u001b[1;33m=\u001b[0m\u001b[1;32mNone\u001b[0m\u001b[1;33m,\u001b[0m \u001b[0mformatter\u001b[0m\u001b[1;33m=\u001b[0m\u001b[1;32mNone\u001b[0m\u001b[1;33m,\u001b[0m \u001b[0mquiet\u001b[0m\u001b[1;33m=\u001b[0m\u001b[1;32mFalse\u001b[0m\u001b[1;33m)\u001b[0m\u001b[1;33m:\u001b[0m\u001b[1;33m\u001b[0m\u001b[1;33m\u001b[0m\u001b[0m\n",
      "\u001b[1;32m~\\anaconda3\\lib\\site-packages\\graphviz\\files.py\u001b[0m in \u001b[0;36mpipe\u001b[1;34m(self, format, renderer, formatter, quiet)\u001b[0m\n\u001b[0;32m    167\u001b[0m         \u001b[0mdata\u001b[0m \u001b[1;33m=\u001b[0m \u001b[0mtext_type\u001b[0m\u001b[1;33m(\u001b[0m\u001b[0mself\u001b[0m\u001b[1;33m.\u001b[0m\u001b[0msource\u001b[0m\u001b[1;33m)\u001b[0m\u001b[1;33m.\u001b[0m\u001b[0mencode\u001b[0m\u001b[1;33m(\u001b[0m\u001b[0mself\u001b[0m\u001b[1;33m.\u001b[0m\u001b[0m_encoding\u001b[0m\u001b[1;33m)\u001b[0m\u001b[1;33m\u001b[0m\u001b[1;33m\u001b[0m\u001b[0m\n\u001b[0;32m    168\u001b[0m \u001b[1;33m\u001b[0m\u001b[0m\n\u001b[1;32m--> 169\u001b[1;33m         out = backend.pipe(self._engine, format, data,\n\u001b[0m\u001b[0;32m    170\u001b[0m                            \u001b[0mrenderer\u001b[0m\u001b[1;33m=\u001b[0m\u001b[0mrenderer\u001b[0m\u001b[1;33m,\u001b[0m \u001b[0mformatter\u001b[0m\u001b[1;33m=\u001b[0m\u001b[0mformatter\u001b[0m\u001b[1;33m,\u001b[0m\u001b[1;33m\u001b[0m\u001b[1;33m\u001b[0m\u001b[0m\n\u001b[0;32m    171\u001b[0m                            quiet=quiet)\n",
      "\u001b[1;32m~\\anaconda3\\lib\\site-packages\\graphviz\\backend.py\u001b[0m in \u001b[0;36mpipe\u001b[1;34m(engine, format, data, renderer, formatter, quiet)\u001b[0m\n\u001b[0;32m    246\u001b[0m         \u001b[0mgraphviz\u001b[0m\u001b[1;33m.\u001b[0m\u001b[0mExecutableNotFound\u001b[0m\u001b[1;33m:\u001b[0m \u001b[0mIf\u001b[0m \u001b[0mthe\u001b[0m \u001b[0mGraphviz\u001b[0m \u001b[0mexecutable\u001b[0m \u001b[1;32mis\u001b[0m \u001b[1;32mnot\u001b[0m \u001b[0mfound\u001b[0m\u001b[1;33m.\u001b[0m\u001b[1;33m\u001b[0m\u001b[1;33m\u001b[0m\u001b[0m\n\u001b[0;32m    247\u001b[0m         \u001b[0msubprocess\u001b[0m\u001b[1;33m.\u001b[0m\u001b[0mCalledProcessError\u001b[0m\u001b[1;33m:\u001b[0m \u001b[0mIf\u001b[0m \u001b[0mthe\u001b[0m \u001b[0mexit\u001b[0m \u001b[0mstatus\u001b[0m \u001b[1;32mis\u001b[0m \u001b[0mnon\u001b[0m\u001b[1;33m-\u001b[0m\u001b[0mzero\u001b[0m\u001b[1;33m.\u001b[0m\u001b[1;33m\u001b[0m\u001b[1;33m\u001b[0m\u001b[0m\n\u001b[1;32m--> 248\u001b[1;33m     \"\"\"\n\u001b[0m\u001b[0;32m    249\u001b[0m     \u001b[0mcmd\u001b[0m\u001b[1;33m,\u001b[0m \u001b[0m_\u001b[0m \u001b[1;33m=\u001b[0m \u001b[0mcommand\u001b[0m\u001b[1;33m(\u001b[0m\u001b[0mengine\u001b[0m\u001b[1;33m,\u001b[0m \u001b[0mformat\u001b[0m\u001b[1;33m,\u001b[0m \u001b[1;32mNone\u001b[0m\u001b[1;33m,\u001b[0m \u001b[0mrenderer\u001b[0m\u001b[1;33m,\u001b[0m \u001b[0mformatter\u001b[0m\u001b[1;33m)\u001b[0m\u001b[1;33m\u001b[0m\u001b[1;33m\u001b[0m\u001b[0m\n\u001b[0;32m    250\u001b[0m     \u001b[0mout\u001b[0m\u001b[1;33m,\u001b[0m \u001b[0m_\u001b[0m \u001b[1;33m=\u001b[0m \u001b[0mrun\u001b[0m\u001b[1;33m(\u001b[0m\u001b[0mcmd\u001b[0m\u001b[1;33m,\u001b[0m \u001b[0minput\u001b[0m\u001b[1;33m=\u001b[0m\u001b[0mdata\u001b[0m\u001b[1;33m,\u001b[0m \u001b[0mcapture_output\u001b[0m\u001b[1;33m=\u001b[0m\u001b[1;32mTrue\u001b[0m\u001b[1;33m,\u001b[0m \u001b[0mcheck\u001b[0m\u001b[1;33m=\u001b[0m\u001b[1;32mTrue\u001b[0m\u001b[1;33m,\u001b[0m \u001b[0mquiet\u001b[0m\u001b[1;33m=\u001b[0m\u001b[0mquiet\u001b[0m\u001b[1;33m)\u001b[0m\u001b[1;33m\u001b[0m\u001b[1;33m\u001b[0m\u001b[0m\n",
      "\u001b[1;32m~\\anaconda3\\lib\\site-packages\\graphviz\\backend.py\u001b[0m in \u001b[0;36mrun\u001b[1;34m(cmd, input, capture_output, check, encoding, quiet, **kwargs)\u001b[0m\n\u001b[0;32m    165\u001b[0m     \u001b[1;32mtry\u001b[0m\u001b[1;33m:\u001b[0m\u001b[1;33m\u001b[0m\u001b[1;33m\u001b[0m\u001b[0m\n\u001b[0;32m    166\u001b[0m         \u001b[0mproc\u001b[0m \u001b[1;33m=\u001b[0m \u001b[0msubprocess\u001b[0m\u001b[1;33m.\u001b[0m\u001b[0mPopen\u001b[0m\u001b[1;33m(\u001b[0m\u001b[0mcmd\u001b[0m\u001b[1;33m,\u001b[0m \u001b[0mstartupinfo\u001b[0m\u001b[1;33m=\u001b[0m\u001b[0mget_startupinfo\u001b[0m\u001b[1;33m(\u001b[0m\u001b[1;33m)\u001b[0m\u001b[1;33m,\u001b[0m \u001b[1;33m**\u001b[0m\u001b[0mkwargs\u001b[0m\u001b[1;33m)\u001b[0m\u001b[1;33m\u001b[0m\u001b[1;33m\u001b[0m\u001b[0m\n\u001b[1;32m--> 167\u001b[1;33m     \u001b[1;32mexcept\u001b[0m \u001b[0mOSError\u001b[0m \u001b[1;32mas\u001b[0m \u001b[0me\u001b[0m\u001b[1;33m:\u001b[0m\u001b[1;33m\u001b[0m\u001b[1;33m\u001b[0m\u001b[0m\n\u001b[0m\u001b[0;32m    168\u001b[0m         \u001b[1;32mif\u001b[0m \u001b[0me\u001b[0m\u001b[1;33m.\u001b[0m\u001b[0merrno\u001b[0m \u001b[1;33m==\u001b[0m \u001b[0merrno\u001b[0m\u001b[1;33m.\u001b[0m\u001b[0mENOENT\u001b[0m\u001b[1;33m:\u001b[0m\u001b[1;33m\u001b[0m\u001b[1;33m\u001b[0m\u001b[0m\n\u001b[0;32m    169\u001b[0m             \u001b[1;32mraise\u001b[0m \u001b[0mExecutableNotFound\u001b[0m\u001b[1;33m(\u001b[0m\u001b[0mcmd\u001b[0m\u001b[1;33m)\u001b[0m\u001b[1;33m\u001b[0m\u001b[1;33m\u001b[0m\u001b[0m\n",
      "\u001b[1;31mExecutableNotFound\u001b[0m: failed to execute ['dot', '-Kdot', '-Tsvg'], make sure the Graphviz executables are on your systems' PATH"
     ]
    },
    {
     "data": {
      "text/plain": [
       "<graphviz.files.Source at 0x197dc5af550>"
      ]
     },
     "execution_count": 297,
     "metadata": {},
     "output_type": "execute_result"
    }
   ],
   "source": [
    "# Plot the tree.\n",
    "dot_data = tree.export_graphviz(tr, out_file=None, class_names=['unacc', 'acc', 'good', 'vgood'], filled=True, rounded=True, special_characters=True)  \n",
    "graph = graphviz.Source(dot_data)  \n",
    "graph "
   ]
  },
  {
   "cell_type": "code",
   "execution_count": 251,
   "metadata": {},
   "outputs": [],
   "source": [
    "#K-NN classification with K=2. \n",
    "\n",
    "from sklearn.neighbors import KNeighborsClassifier\n",
    "knn = KNeighborsClassifier(n_neighbors=2)\n",
    "knn.fit(X_train, y_train)\n",
    "KNNpredictions = knn.predict(X_test)"
   ]
  },
  {
   "cell_type": "code",
   "execution_count": 201,
   "metadata": {},
   "outputs": [
    {
     "name": "stdout",
     "output_type": "stream",
     "text": [
      "              precision    recall  f1-score   support\n",
      "\n",
      "           1       0.51      0.84      0.64        25\n",
      "           2       0.50      0.69      0.58        16\n",
      "           3       0.63      0.80      0.71       115\n",
      "           4       1.00      0.85      0.92       363\n",
      "\n",
      "    accuracy                           0.84       519\n",
      "   macro avg       0.66      0.80      0.71       519\n",
      "weighted avg       0.88      0.84      0.85       519\n",
      "\n",
      "Accuracy of K-Nearest Neighbor on Car evaluation Data: 83.62\n"
     ]
    }
   ],
   "source": [
    "print(classification_report(y_test, KNNpredictions))\n",
    "print('Accuracy of K-Nearest Neighbor on Car evaluation Data: {:.2f}'.format(round(knn.score(X_test, y_test) * 100, 2)));"
   ]
  },
  {
   "cell_type": "code",
   "execution_count": 202,
   "metadata": {},
   "outputs": [
    {
     "name": "stdout",
     "output_type": "stream",
     "text": [
      "[[ 1.34164079  1.34164079 -1.34164079 ... -1.22474487 -1.22474487\n",
      "   0.55858269]\n",
      " [ 1.34164079  1.34164079 -1.34164079 ... -1.22474487  0.\n",
      "   0.55858269]\n",
      " [ 1.34164079  1.34164079 -1.34164079 ... -1.22474487  1.22474487\n",
      "   0.55858269]\n",
      " ...\n",
      " [-1.34164079 -1.34164079  1.34164079 ...  1.22474487 -1.22474487\n",
      "   0.55858269]\n",
      " [-1.34164079 -1.34164079  1.34164079 ...  1.22474487  0.\n",
      "  -3.45763457]\n",
      " [-1.34164079 -1.34164079  1.34164079 ...  1.22474487  1.22474487\n",
      "  -2.11889548]]\n"
     ]
    }
   ],
   "source": [
    "#standardize the data to normal distribution\n",
    "from sklearn import preprocessing\n",
    "car_eval_standardized = preprocessing.scale(Carevaluation)\n",
    "print(car_eval_standardized)\n",
    "car_eval_standardized = pd.DataFrame(car_eval_standardized)"
   ]
  },
  {
   "cell_type": "code",
   "execution_count": 203,
   "metadata": {
    "scrolled": true
   },
   "outputs": [
    {
     "data": {
      "image/png": "[encoded data removed]",
      "text/plain": [
       "<Figure size 720x576 with 1 Axes>"
      ]
     },
     "metadata": {
      "needs_background": "light"
     },
     "output_type": "display_data"
    }
   ],
   "source": [
    "# K-means Clustering\n",
    "plt.figure(figsize=(10, 8))\n",
    "wcss = []\n",
    "for i in range(1, 11):\n",
    "    kmeans = KMeans(n_clusters = i, init = 'k-means++', random_state = 42)\n",
    "    kmeans.fit(car_eval_standardized)\n",
    "    wcss.append(kmeans.inertia_) #criterion based on which K-means clustering works\n",
    "plt.plot(range(1, 11), wcss)\n",
    "plt.title('The Elbow Method')\n",
    "plt.xlabel('Number of clusters')\n",
    "plt.ylabel('Within cluster sum of squares')\n",
    "plt.show()"
   ]
  },
  {
   "cell_type": "code",
   "execution_count": 206,
   "metadata": {},
   "outputs": [
    {
     "data": {
      "text/plain": [
       "array([[0],\n",
       "       [0],\n",
       "       [0],\n",
       "       ...,\n",
       "       [2],\n",
       "       [2],\n",
       "       [2]])"
      ]
     },
     "execution_count": 206,
     "metadata": {},
     "output_type": "execute_result"
    }
   ],
   "source": [
    "X = Carevaluation.iloc[:, [4]].values # Add Purchaseprice/Rating to our data\n",
    "#X = K_Cluster\n",
    "X"
   ]
  },
  {
   "cell_type": "code",
   "execution_count": 207,
   "metadata": {},
   "outputs": [
    {
     "ename": "IndexError",
     "evalue": "index 1 is out of bounds for axis 1 with size 1",
     "output_type": "error",
     "traceback": [
      "\u001b[1;31m---------------------------------------------------------------------------\u001b[0m",
      "\u001b[1;31mIndexError\u001b[0m                                Traceback (most recent call last)",
      "\u001b[1;32m<ipython-input-207-d83ad45637e0>\u001b[0m in \u001b[0;36m<module>\u001b[1;34m\u001b[0m\n\u001b[1;32m----> 1\u001b[1;33m \u001b[0mplt\u001b[0m\u001b[1;33m.\u001b[0m\u001b[0mscatter\u001b[0m\u001b[1;33m(\u001b[0m\u001b[0mX\u001b[0m\u001b[1;33m[\u001b[0m\u001b[1;33m:\u001b[0m\u001b[1;33m,\u001b[0m \u001b[1;36m0\u001b[0m\u001b[1;33m]\u001b[0m\u001b[1;33m,\u001b[0m \u001b[0mX\u001b[0m\u001b[1;33m[\u001b[0m\u001b[1;33m:\u001b[0m\u001b[1;33m,\u001b[0m \u001b[1;36m1\u001b[0m\u001b[1;33m]\u001b[0m\u001b[1;33m,\u001b[0m \u001b[0ms\u001b[0m\u001b[1;33m=\u001b[0m\u001b[1;36m50\u001b[0m\u001b[1;33m,\u001b[0m\u001b[0mlabel\u001b[0m\u001b[1;33m=\u001b[0m\u001b[1;34m'unclustered data'\u001b[0m\u001b[1;33m)\u001b[0m\u001b[1;33m;\u001b[0m\u001b[1;33m\u001b[0m\u001b[1;33m\u001b[0m\u001b[0m\n\u001b[0m",
      "\u001b[1;31mIndexError\u001b[0m: index 1 is out of bounds for axis 1 with size 1"
     ]
    }
   ],
   "source": [
    "plt.scatter(X[:, 0], X[:, 1], s=50,label='unclustered data');"
   ]
  },
  {
   "cell_type": "code",
   "execution_count": 114,
   "metadata": {},
   "outputs": [
    {
     "data": {
      "text/plain": [
       "array([1, 1, 1, ..., 3, 2, 2])"
      ]
     },
     "execution_count": 114,
     "metadata": {},
     "output_type": "execute_result"
    }
   ],
   "source": [
    "# Fitting K-Means to the dataset\n",
    "kmeans = KMeans(n_clusters = 4, init = 'k-means++', random_state = 42)\n",
    "y_kmeans = kmeans.fit_predict(car_eval_standardized)\n",
    "\n",
    "y_kmeans"
   ]
  },
  {
   "cell_type": "code",
   "execution_count": 116,
   "metadata": {},
   "outputs": [],
   "source": [
    "#beginning of  the cluster numbering with 1 instead of 0\n",
    "y_kmeans1=y_kmeans+1\n",
    "\n",
    "# New list called cluster\n",
    "cluster = list(y_kmeans1)\n",
    "# Adding cluster to our data set\n",
    "Carevaluation['cluster'] = cluster\n"
   ]
  },
  {
   "cell_type": "code",
   "execution_count": 117,
   "metadata": {},
   "outputs": [
    {
     "data": {
      "text/html": [
       "<div>\n",
       "<style scoped>\n",
       "    .dataframe tbody tr th:only-of-type {\n",
       "        vertical-align: middle;\n",
       "    }\n",
       "\n",
       "    .dataframe tbody tr th {\n",
       "        vertical-align: top;\n",
       "    }\n",
       "\n",
       "    .dataframe thead th {\n",
       "        text-align: right;\n",
       "    }\n",
       "</style>\n",
       "<table border=\"1\" class=\"dataframe\">\n",
       "  <thead>\n",
       "    <tr style=\"text-align: right;\">\n",
       "      <th></th>\n",
       "      <th>PurchasePrice</th>\n",
       "      <th>MaintenanceCosts</th>\n",
       "      <th>Doors</th>\n",
       "      <th>Persons</th>\n",
       "      <th>LuggaeBoot</th>\n",
       "      <th>Safety</th>\n",
       "      <th>Rating</th>\n",
       "    </tr>\n",
       "    <tr>\n",
       "      <th>cluster</th>\n",
       "      <th></th>\n",
       "      <th></th>\n",
       "      <th></th>\n",
       "      <th></th>\n",
       "      <th></th>\n",
       "      <th></th>\n",
       "      <th></th>\n",
       "    </tr>\n",
       "  </thead>\n",
       "  <tbody>\n",
       "    <tr>\n",
       "      <th>1</th>\n",
       "      <td>2.7</td>\n",
       "      <td>1.6</td>\n",
       "      <td>3.4</td>\n",
       "      <td>4.5</td>\n",
       "      <td>0.9</td>\n",
       "      <td>1.1</td>\n",
       "      <td>3.8</td>\n",
       "    </tr>\n",
       "    <tr>\n",
       "      <th>2</th>\n",
       "      <td>1.5</td>\n",
       "      <td>1.5</td>\n",
       "      <td>3.5</td>\n",
       "      <td>2.0</td>\n",
       "      <td>1.0</td>\n",
       "      <td>1.0</td>\n",
       "      <td>4.0</td>\n",
       "    </tr>\n",
       "    <tr>\n",
       "      <th>3</th>\n",
       "      <td>0.8</td>\n",
       "      <td>1.3</td>\n",
       "      <td>3.6</td>\n",
       "      <td>4.5</td>\n",
       "      <td>1.1</td>\n",
       "      <td>1.6</td>\n",
       "      <td>2.5</td>\n",
       "    </tr>\n",
       "    <tr>\n",
       "      <th>4</th>\n",
       "      <td>1.0</td>\n",
       "      <td>1.6</td>\n",
       "      <td>3.4</td>\n",
       "      <td>4.5</td>\n",
       "      <td>0.9</td>\n",
       "      <td>0.1</td>\n",
       "      <td>4.0</td>\n",
       "    </tr>\n",
       "  </tbody>\n",
       "</table>\n",
       "</div>"
      ],
      "text/plain": [
       "         PurchasePrice  MaintenanceCosts  Doors  Persons  LuggaeBoot  Safety  \\\n",
       "cluster                                                                        \n",
       "1                  2.7               1.6    3.4      4.5         0.9     1.1   \n",
       "2                  1.5               1.5    3.5      2.0         1.0     1.0   \n",
       "3                  0.8               1.3    3.6      4.5         1.1     1.6   \n",
       "4                  1.0               1.6    3.4      4.5         0.9     0.1   \n",
       "\n",
       "         Rating  \n",
       "cluster          \n",
       "1           3.8  \n",
       "2           4.0  \n",
       "3           2.5  \n",
       "4           4.0  "
      ]
     },
     "execution_count": 117,
     "metadata": {},
     "output_type": "execute_result"
    }
   ],
   "source": [
    "#Mean of clusters 1 to 4\n",
    "kmeans_mean_cluster = pd.DataFrame(round(Carevaluation.groupby('cluster').mean(),1))\n",
    "kmeans_mean_cluster"
   ]
  },
  {
   "cell_type": "code",
   "execution_count": 125,
   "metadata": {},
   "outputs": [
    {
     "data": {
      "image/png": "[encoded data removed]",
      "text/plain": [
       "<Figure size 864x432 with 1 Axes>"
      ]
     },
     "metadata": {
      "needs_background": "light"
     },
     "output_type": "display_data"
    }
   ],
   "source": [
    "from sklearn.cluster import KMeans\n",
    "kmeans = KMeans(n_clusters = 3, init = 'k-means++', random_state = 42)\n",
    "kmeans.fit(X)\n",
    "y_kmeans = kmeans.predict(X)\n",
    "kmeans.n_iter_\n",
    "plt.figure(figsize=(12,6))\n",
    "plt.scatter(x=Carevaluation['Rating'], y = Carevaluation['PurchasePrice'], s=20,cmap='viridis');\n",
    "plt.title('Clusters of Car buying')\n",
    "plt.xlabel('Rating')\n",
    "plt.ylabel('PurchasePrice')\n",
    "plt.show()"
   ]
  },
  {
   "cell_type": "code",
   "execution_count": 122,
   "metadata": {},
   "outputs": [
    {
     "data": {
      "image/png": "[encoded data removed]",
      "text/plain": [
       "<Figure size 864x432 with 1 Axes>"
      ]
     },
     "metadata": {
      "needs_background": "light"
     },
     "output_type": "display_data"
    }
   ],
   "source": [
    "# Visualising the clusters\n",
    "kmeans = KMeans(n_clusters = 3, init = 'k-means++', random_state = 42)\n",
    "kmeans.fit(X)\n",
    "y_kmeans = kmeans.predict(X)\n",
    "plt.figure(figsize=(12,6))\n",
    "plt.scatter(X[:, 0], X[:, 1], c=y_kmeans, s=50, cmap='viridis')\n",
    "\n",
    "centers = kmeans.cluster_centers_\n",
    "plt.scatter(X[y_kmeans == 0, 0], X[y_kmeans == 0, 1], s = 100, label = 'Cluster 1')\n",
    "plt.scatter(X[y_kmeans == 1, 0], X[y_kmeans == 1, 1], s = 100, label = 'Cluster 2')\n",
    "plt.scatter(X[y_kmeans == 2, 0], X[y_kmeans == 2, 1], s = 100, label = 'Cluster 3')\n",
    "\n",
    "plt.scatter(centers[:, 0], centers[:, 1], c='yellow', s=300,label = 'Centroids');\n",
    "plt.title('Clusters of Car Buying')\n",
    "plt.xlabel('PurchasePrice')\n",
    "plt.ylabel('Rating')\n",
    "plt.legend()\n",
    "plt.show()"
   ]
  },
  {
   "cell_type": "code",
   "execution_count": 302,
   "metadata": {},
   "outputs": [],
   "source": [
    "Careval_logical = pd.read_csv(cd+\"/Careval_Logical.csv\",index_col=0)"
   ]
  },
  {
   "cell_type": "code",
   "execution_count": null,
   "metadata": {},
   "outputs": [],
   "source": [
    "#States in cluster 1\n",
    "Careval_logical[Careval_logical['cluster']==2]"
   ]
  },
  {
   "cell_type": "code",
   "execution_count": 208,
   "metadata": {},
   "outputs": [
    {
     "data": {
      "text/plain": [
       "array([1, 2, 0, ..., 1, 3, 3])"
      ]
     },
     "execution_count": 208,
     "metadata": {},
     "output_type": "execute_result"
    }
   ],
   "source": [
    "# Import the kmeans clustering model.\n",
    "from sklearn.cluster import KMeans\n",
    "\n",
    "# Initialize the model with 2 parameters -- number of clusters and random state.\n",
    "kmeans_model = KMeans(n_clusters=4, random_state=1)\n",
    "\n",
    "# Fit the model using the good columns.\n",
    "kmeans_model.fit(Careval_logical)\n",
    "# Get the cluster assignments.\n",
    "labels = kmeans_model.labels_\n",
    "\n",
    "labels"
   ]
  },
  {
   "cell_type": "code",
   "execution_count": null,
   "metadata": {},
   "outputs": [],
   "source": [
    "Carevaluation_raw = pd.read_csv(cd+\"/Car evaluation.csv\",index_col=0)"
   ]
  },
  {
   "cell_type": "code",
   "execution_count": 212,
   "metadata": {
    "scrolled": true
   },
   "outputs": [
    {
     "data": {
      "text/html": [
       "<div>\n",
       "<style scoped>\n",
       "    .dataframe tbody tr th:only-of-type {\n",
       "        vertical-align: middle;\n",
       "    }\n",
       "\n",
       "    .dataframe tbody tr th {\n",
       "        vertical-align: top;\n",
       "    }\n",
       "\n",
       "    .dataframe thead th {\n",
       "        text-align: right;\n",
       "    }\n",
       "</style>\n",
       "<table border=\"1\" class=\"dataframe\">\n",
       "  <thead>\n",
       "    <tr style=\"text-align: right;\">\n",
       "      <th></th>\n",
       "      <th>PurchasePrice</th>\n",
       "      <th>MaintenanceCosts</th>\n",
       "      <th>Doors</th>\n",
       "      <th>Persons</th>\n",
       "      <th>LuggaeBoot</th>\n",
       "      <th>Safety</th>\n",
       "      <th>Rating</th>\n",
       "      <th>cluster</th>\n",
       "    </tr>\n",
       "    <tr>\n",
       "      <th>VehicleNumber</th>\n",
       "      <th></th>\n",
       "      <th></th>\n",
       "      <th></th>\n",
       "      <th></th>\n",
       "      <th></th>\n",
       "      <th></th>\n",
       "      <th></th>\n",
       "      <th></th>\n",
       "    </tr>\n",
       "  </thead>\n",
       "  <tbody>\n",
       "    <tr>\n",
       "      <th>1</th>\n",
       "      <td>vhigh</td>\n",
       "      <td>vhigh</td>\n",
       "      <td>2</td>\n",
       "      <td>2</td>\n",
       "      <td>small</td>\n",
       "      <td>low</td>\n",
       "      <td>unacc</td>\n",
       "      <td>1</td>\n",
       "    </tr>\n",
       "    <tr>\n",
       "      <th>2</th>\n",
       "      <td>vhigh</td>\n",
       "      <td>vhigh</td>\n",
       "      <td>2</td>\n",
       "      <td>2</td>\n",
       "      <td>small</td>\n",
       "      <td>med</td>\n",
       "      <td>unacc</td>\n",
       "      <td>2</td>\n",
       "    </tr>\n",
       "    <tr>\n",
       "      <th>3</th>\n",
       "      <td>vhigh</td>\n",
       "      <td>vhigh</td>\n",
       "      <td>2</td>\n",
       "      <td>2</td>\n",
       "      <td>small</td>\n",
       "      <td>high</td>\n",
       "      <td>unacc</td>\n",
       "      <td>0</td>\n",
       "    </tr>\n",
       "    <tr>\n",
       "      <th>4</th>\n",
       "      <td>vhigh</td>\n",
       "      <td>vhigh</td>\n",
       "      <td>2</td>\n",
       "      <td>2</td>\n",
       "      <td>med</td>\n",
       "      <td>low</td>\n",
       "      <td>unacc</td>\n",
       "      <td>1</td>\n",
       "    </tr>\n",
       "    <tr>\n",
       "      <th>5</th>\n",
       "      <td>vhigh</td>\n",
       "      <td>vhigh</td>\n",
       "      <td>2</td>\n",
       "      <td>2</td>\n",
       "      <td>med</td>\n",
       "      <td>med</td>\n",
       "      <td>unacc</td>\n",
       "      <td>2</td>\n",
       "    </tr>\n",
       "    <tr>\n",
       "      <th>6</th>\n",
       "      <td>vhigh</td>\n",
       "      <td>vhigh</td>\n",
       "      <td>2</td>\n",
       "      <td>2</td>\n",
       "      <td>med</td>\n",
       "      <td>high</td>\n",
       "      <td>unacc</td>\n",
       "      <td>0</td>\n",
       "    </tr>\n",
       "    <tr>\n",
       "      <th>7</th>\n",
       "      <td>vhigh</td>\n",
       "      <td>vhigh</td>\n",
       "      <td>2</td>\n",
       "      <td>2</td>\n",
       "      <td>big</td>\n",
       "      <td>low</td>\n",
       "      <td>unacc</td>\n",
       "      <td>1</td>\n",
       "    </tr>\n",
       "    <tr>\n",
       "      <th>8</th>\n",
       "      <td>vhigh</td>\n",
       "      <td>vhigh</td>\n",
       "      <td>2</td>\n",
       "      <td>2</td>\n",
       "      <td>big</td>\n",
       "      <td>med</td>\n",
       "      <td>unacc</td>\n",
       "      <td>2</td>\n",
       "    </tr>\n",
       "    <tr>\n",
       "      <th>9</th>\n",
       "      <td>vhigh</td>\n",
       "      <td>vhigh</td>\n",
       "      <td>2</td>\n",
       "      <td>2</td>\n",
       "      <td>big</td>\n",
       "      <td>high</td>\n",
       "      <td>unacc</td>\n",
       "      <td>0</td>\n",
       "    </tr>\n",
       "    <tr>\n",
       "      <th>10</th>\n",
       "      <td>vhigh</td>\n",
       "      <td>vhigh</td>\n",
       "      <td>2</td>\n",
       "      <td>4</td>\n",
       "      <td>small</td>\n",
       "      <td>low</td>\n",
       "      <td>unacc</td>\n",
       "      <td>1</td>\n",
       "    </tr>\n",
       "  </tbody>\n",
       "</table>\n",
       "</div>"
      ],
      "text/plain": [
       "              PurchasePrice MaintenanceCosts Doors Persons LuggaeBoot Safety  \\\n",
       "VehicleNumber                                                                  \n",
       "1                     vhigh            vhigh     2       2      small    low   \n",
       "2                     vhigh            vhigh     2       2      small    med   \n",
       "3                     vhigh            vhigh     2       2      small   high   \n",
       "4                     vhigh            vhigh     2       2        med    low   \n",
       "5                     vhigh            vhigh     2       2        med    med   \n",
       "6                     vhigh            vhigh     2       2        med   high   \n",
       "7                     vhigh            vhigh     2       2        big    low   \n",
       "8                     vhigh            vhigh     2       2        big    med   \n",
       "9                     vhigh            vhigh     2       2        big   high   \n",
       "10                    vhigh            vhigh     2       4      small    low   \n",
       "\n",
       "              Rating  cluster  \n",
       "VehicleNumber                  \n",
       "1              unacc        1  \n",
       "2              unacc        2  \n",
       "3              unacc        0  \n",
       "4              unacc        1  \n",
       "5              unacc        2  \n",
       "6              unacc        0  \n",
       "7              unacc        1  \n",
       "8              unacc        2  \n",
       "9              unacc        0  \n",
       "10             unacc        1  "
      ]
     },
     "execution_count": 212,
     "metadata": {},
     "output_type": "execute_result"
    }
   ],
   "source": [
    "Carevaluation_raw['cluster'] = labels\n",
    "Carevaluation_raw.head(10)"
   ]
  },
  {
   "cell_type": "code",
   "execution_count": 214,
   "metadata": {},
   "outputs": [
    {
     "data": {
      "text/plain": [
       "unacc    1210\n",
       "acc       384\n",
       "good       69\n",
       "vgood      65\n",
       "Name: Rating, dtype: int64"
      ]
     },
     "execution_count": 214,
     "metadata": {},
     "output_type": "execute_result"
    }
   ],
   "source": [
    "classes = Carevaluation_raw['Rating']\n",
    "classes.value_counts()"
   ]
  },
  {
   "cell_type": "code",
   "execution_count": null,
   "metadata": {},
   "outputs": [],
   "source": [
    "#The classes in the dataset aren't evenly represented. Lets look at the cars that are classed as 'vgood' and 'good' and see what type of clusters they're put into."
   ]
  },
  {
   "cell_type": "code",
   "execution_count": 231,
   "metadata": {},
   "outputs": [
    {
     "name": "stdout",
     "output_type": "stream",
     "text": [
      "acc clusters\n",
      "3    384\n",
      "Name: cluster, dtype: int64\n",
      "\n",
      "better <> unacc clusters\n",
      "1    576\n",
      "2    357\n",
      "0    277\n",
      "Name: cluster, dtype: int64\n"
     ]
    }
   ],
   "source": [
    "print(\"acc clusters\")\n",
    "print(Carevaluation_raw.loc[Carevaluation_raw['Rating'] == 'acc']['cluster'].value_counts())  #get the frequency of each value in the 'cluster' attribute\n",
    "print(\"\\nbetter <> unacc clusters\")\n",
    "print(Carevaluation_raw.loc[Carevaluation_raw['Rating'] == 'unacc']['cluster'].value_counts())  #get the frequency of each value in the 'cluster' attribut"
   ]
  },
  {
   "cell_type": "code",
   "execution_count": 229,
   "metadata": {
    "scrolled": true
   },
   "outputs": [
    {
     "name": "stdout",
     "output_type": "stream",
     "text": [
      "vgood clusters\n",
      "3    65\n",
      "Name: cluster, dtype: int64\n",
      "\n",
      "good clusters\n",
      "3    69\n",
      "Name: cluster, dtype: int64\n"
     ]
    }
   ],
   "source": [
    "print(\"vgood clusters\")\n",
    "print(Carevaluation_raw.loc[Carevaluation_raw['Rating'] == 'vgood']['cluster'].value_counts())  #get the frequency of each value in the 'cluster' attribute\n",
    "print(\"\\ngood clusters\")\n",
    "print(Carevaluation_raw.loc[Carevaluation_raw['Rating'] == 'good']['cluster'].value_counts())  #get the frequency of each value in the 'cluster' attribut"
   ]
  },
  {
   "cell_type": "code",
   "execution_count": 232,
   "metadata": {},
   "outputs": [
    {
     "data": {
      "text/html": [
       "<div>\n",
       "<style scoped>\n",
       "    .dataframe tbody tr th:only-of-type {\n",
       "        vertical-align: middle;\n",
       "    }\n",
       "\n",
       "    .dataframe tbody tr th {\n",
       "        vertical-align: top;\n",
       "    }\n",
       "\n",
       "    .dataframe thead th {\n",
       "        text-align: right;\n",
       "    }\n",
       "</style>\n",
       "<table border=\"1\" class=\"dataframe\">\n",
       "  <thead>\n",
       "    <tr style=\"text-align: right;\">\n",
       "      <th></th>\n",
       "      <th>PurchasePrice</th>\n",
       "      <th>MaintenanceCosts</th>\n",
       "      <th>Doors</th>\n",
       "      <th>Persons</th>\n",
       "      <th>LuggaeBoot</th>\n",
       "      <th>Safety</th>\n",
       "      <th>Rating</th>\n",
       "      <th>cluster</th>\n",
       "    </tr>\n",
       "    <tr>\n",
       "      <th>VehicleNumber</th>\n",
       "      <th></th>\n",
       "      <th></th>\n",
       "      <th></th>\n",
       "      <th></th>\n",
       "      <th></th>\n",
       "      <th></th>\n",
       "      <th></th>\n",
       "      <th></th>\n",
       "    </tr>\n",
       "  </thead>\n",
       "  <tbody>\n",
       "    <tr>\n",
       "      <th>228</th>\n",
       "      <td>vhigh</td>\n",
       "      <td>med</td>\n",
       "      <td>2</td>\n",
       "      <td>4</td>\n",
       "      <td>small</td>\n",
       "      <td>high</td>\n",
       "      <td>acc</td>\n",
       "      <td>3</td>\n",
       "    </tr>\n",
       "    <tr>\n",
       "      <th>231</th>\n",
       "      <td>vhigh</td>\n",
       "      <td>med</td>\n",
       "      <td>2</td>\n",
       "      <td>4</td>\n",
       "      <td>med</td>\n",
       "      <td>high</td>\n",
       "      <td>acc</td>\n",
       "      <td>3</td>\n",
       "    </tr>\n",
       "    <tr>\n",
       "      <th>233</th>\n",
       "      <td>vhigh</td>\n",
       "      <td>med</td>\n",
       "      <td>2</td>\n",
       "      <td>4</td>\n",
       "      <td>big</td>\n",
       "      <td>med</td>\n",
       "      <td>acc</td>\n",
       "      <td>3</td>\n",
       "    </tr>\n",
       "    <tr>\n",
       "      <th>234</th>\n",
       "      <td>vhigh</td>\n",
       "      <td>med</td>\n",
       "      <td>2</td>\n",
       "      <td>4</td>\n",
       "      <td>big</td>\n",
       "      <td>high</td>\n",
       "      <td>acc</td>\n",
       "      <td>3</td>\n",
       "    </tr>\n",
       "    <tr>\n",
       "      <th>240</th>\n",
       "      <td>vhigh</td>\n",
       "      <td>med</td>\n",
       "      <td>2</td>\n",
       "      <td>more</td>\n",
       "      <td>med</td>\n",
       "      <td>high</td>\n",
       "      <td>acc</td>\n",
       "      <td>3</td>\n",
       "    </tr>\n",
       "    <tr>\n",
       "      <th>...</th>\n",
       "      <td>...</td>\n",
       "      <td>...</td>\n",
       "      <td>...</td>\n",
       "      <td>...</td>\n",
       "      <td>...</td>\n",
       "      <td>...</td>\n",
       "      <td>...</td>\n",
       "      <td>...</td>\n",
       "    </tr>\n",
       "    <tr>\n",
       "      <th>1722</th>\n",
       "      <td>low</td>\n",
       "      <td>low</td>\n",
       "      <td>5more</td>\n",
       "      <td>more</td>\n",
       "      <td>small</td>\n",
       "      <td>high</td>\n",
       "      <td>good</td>\n",
       "      <td>3</td>\n",
       "    </tr>\n",
       "    <tr>\n",
       "      <th>1724</th>\n",
       "      <td>low</td>\n",
       "      <td>low</td>\n",
       "      <td>5more</td>\n",
       "      <td>more</td>\n",
       "      <td>med</td>\n",
       "      <td>med</td>\n",
       "      <td>good</td>\n",
       "      <td>3</td>\n",
       "    </tr>\n",
       "    <tr>\n",
       "      <th>1725</th>\n",
       "      <td>low</td>\n",
       "      <td>low</td>\n",
       "      <td>5more</td>\n",
       "      <td>more</td>\n",
       "      <td>med</td>\n",
       "      <td>high</td>\n",
       "      <td>vgood</td>\n",
       "      <td>3</td>\n",
       "    </tr>\n",
       "    <tr>\n",
       "      <th>1727</th>\n",
       "      <td>low</td>\n",
       "      <td>low</td>\n",
       "      <td>5more</td>\n",
       "      <td>more</td>\n",
       "      <td>big</td>\n",
       "      <td>med</td>\n",
       "      <td>good</td>\n",
       "      <td>3</td>\n",
       "    </tr>\n",
       "    <tr>\n",
       "      <th>1728</th>\n",
       "      <td>low</td>\n",
       "      <td>low</td>\n",
       "      <td>5more</td>\n",
       "      <td>more</td>\n",
       "      <td>big</td>\n",
       "      <td>high</td>\n",
       "      <td>vgood</td>\n",
       "      <td>3</td>\n",
       "    </tr>\n",
       "  </tbody>\n",
       "</table>\n",
       "<p>518 rows × 8 columns</p>\n",
       "</div>"
      ],
      "text/plain": [
       "              PurchasePrice MaintenanceCosts  Doors Persons LuggaeBoot Safety  \\\n",
       "VehicleNumber                                                                   \n",
       "228                   vhigh              med      2       4      small   high   \n",
       "231                   vhigh              med      2       4        med   high   \n",
       "233                   vhigh              med      2       4        big    med   \n",
       "234                   vhigh              med      2       4        big   high   \n",
       "240                   vhigh              med      2    more        med   high   \n",
       "...                     ...              ...    ...     ...        ...    ...   \n",
       "1722                    low              low  5more    more      small   high   \n",
       "1724                    low              low  5more    more        med    med   \n",
       "1725                    low              low  5more    more        med   high   \n",
       "1727                    low              low  5more    more        big    med   \n",
       "1728                    low              low  5more    more        big   high   \n",
       "\n",
       "              Rating  cluster  \n",
       "VehicleNumber                  \n",
       "228              acc        3  \n",
       "231              acc        3  \n",
       "233              acc        3  \n",
       "234              acc        3  \n",
       "240              acc        3  \n",
       "...              ...      ...  \n",
       "1722            good        3  \n",
       "1724            good        3  \n",
       "1725           vgood        3  \n",
       "1727            good        3  \n",
       "1728           vgood        3  \n",
       "\n",
       "[518 rows x 8 columns]"
      ]
     },
     "execution_count": 232,
     "metadata": {},
     "output_type": "execute_result"
    }
   ],
   "source": [
    "cluster_3 = Carevaluation_raw.loc[Carevaluation_raw['cluster'] == 3]   #get only the datapoints with cluster value of 3\n",
    "cluster_3"
   ]
  },
  {
   "cell_type": "code",
   "execution_count": 234,
   "metadata": {},
   "outputs": [
    {
     "name": "stdout",
     "output_type": "stream",
     "text": [
      "Number of passengers, Cluster 3: \n",
      "4       264\n",
      "more    254\n",
      "Name: Persons, dtype: int64\n",
      "\n",
      "Number of passengers, all Data: \n",
      "4       576\n",
      "more    576\n",
      "2       576\n",
      "Name: Persons, dtype: int64\n"
     ]
    }
   ],
   "source": [
    "print(\"Number of passengers, Cluster 3: \")\n",
    "print(cluster_3['Persons'].value_counts())   #get the frequency of each value in the 'ppl' attribute\n",
    "print(\"\\nNumber of passengers, all Data: \")\n",
    "print(Carevaluation_raw['Persons'].value_counts())   #get the frequency of each value in the 'ppl' attribute"
   ]
  },
  {
   "cell_type": "code",
   "execution_count": 235,
   "metadata": {},
   "outputs": [
    {
     "name": "stdout",
     "output_type": "stream",
     "text": [
      "Number of passengers, Cluster 0: \n",
      "2       192\n",
      "more     49\n",
      "4        36\n",
      "Name: Persons, dtype: int64\n",
      "\n",
      "Number of passengers, Cluster 1: \n",
      "2       192\n",
      "4       192\n",
      "more    192\n",
      "Name: Persons, dtype: int64\n",
      "\n",
      "Number of passengers, Cluster 2: \n",
      "2       192\n",
      "4        84\n",
      "more     81\n",
      "Name: Persons, dtype: int64\n"
     ]
    }
   ],
   "source": [
    "cluster_0 = Carevaluation_raw.loc[Carevaluation_raw['cluster'] == 0]\n",
    "cluster_1 = Carevaluation_raw.loc[Carevaluation_raw['cluster'] == 1]\n",
    "cluster_2 = Carevaluation_raw.loc[Carevaluation_raw['cluster'] == 2]\n",
    "print(\"Number of passengers, Cluster 0: \")\n",
    "print(cluster_0['Persons'].value_counts())   #get the frequency of each value in the 'ppl' attribute\n",
    "print(\"\\nNumber of passengers, Cluster 1: \")\n",
    "print(cluster_1['Persons'].value_counts())   #get the frequency of each value in the 'ppl' attribute\n",
    "print(\"\\nNumber of passengers, Cluster 2: \")\n",
    "print(cluster_2['Persons'].value_counts())   #get the frequency of each value in the 'ppl' attribute"
   ]
  },
  {
   "cell_type": "code",
   "execution_count": null,
   "metadata": {},
   "outputs": [],
   "source": [
    "# Visualising the clusters\n",
    "plt.scatter(CarsNew[y_kmeans == 0, 0], CarsNew[y_kmeans == 0,1],s=100,c='red',label='US')\n",
    "plt.scatter(CarsNew[y_kmeans == 1, 0], CarsNew[y_kmeans == 1,1],s=100,c='blue',label='Japan')\n",
    "plt.scatter(CarsNew[y_kmeans == 2, 0], CarsNew[y_kmeans == 2,1],s=100,c='green',label='Europe')\n",
    "plt.scatter(kmeans.cluster_centers_[:,0],kmeans.cluster_centers_[:,1],s=300,c='yellow',label='Centroids')\n",
    "plt.title('Clusters of car brands')\n",
    "plt.legend()\n",
    "plt.show()"
   ]
  },
  {
   "cell_type": "code",
   "execution_count": 237,
   "metadata": {
    "scrolled": true
   },
   "outputs": [
    {
     "name": "stdout",
     "output_type": "stream",
     "text": [
      "\n",
      "Buying Price: \n",
      "med      432\n",
      "low      432\n",
      "vhigh    432\n",
      "high     432\n",
      "Name: PurchasePrice, dtype: int64\n",
      "\n",
      "Maintanance Price: \n",
      "med      432\n",
      "low      432\n",
      "vhigh    432\n",
      "high     432\n",
      "Name: MaintenanceCosts, dtype: int64\n",
      "\n",
      "Number of doors: \n",
      "5more    432\n",
      "3        432\n",
      "4        432\n",
      "2        432\n",
      "Name: Doors, dtype: int64\n",
      "\n",
      "Luggage room: \n",
      "small    576\n",
      "big      576\n",
      "med      576\n",
      "Name: LuggaeBoot, dtype: int64\n",
      "\n",
      "Safety: \n",
      "med     576\n",
      "low     576\n",
      "high    576\n",
      "Name: Safety, dtype: int64\n"
     ]
    }
   ],
   "source": [
    "print(\"\\nBuying Price: \")\n",
    "print(Carevaluation_raw['PurchasePrice'].value_counts())   #get the frequency of values\n",
    "print(\"\\nMaintanance Price: \")\n",
    "print(Carevaluation_raw['MaintenanceCosts'].value_counts())   #get the frequency of values\n",
    "print(\"\\nNumber of doors: \")\n",
    "print(Carevaluation_raw['Doors'].value_counts())   #get the frequency of values\n",
    "print(\"\\nLuggage room: \")\n",
    "print(Carevaluation_raw['LuggaeBoot'].value_counts())   #get the frequency of values\n",
    "print(\"\\nSafety: \")\n",
    "print(Carevaluation_raw['Safety'].value_counts())   #get the frequency of values"
   ]
  },
  {
   "cell_type": "code",
   "execution_count": 240,
   "metadata": {},
   "outputs": [
    {
     "data": {
      "text/plain": [
       "RangeIndex(start=0, stop=1, step=1)"
      ]
     },
     "execution_count": 240,
     "metadata": {},
     "output_type": "execute_result"
    }
   ],
   "source": [
    "# Importing the datase\n",
    "CarsNew = Carevaluation_raw.iloc[:,:-1].values\n",
    "CarsNew = pd.DataFrame(X)\n",
    "CarsNew.columns"
   ]
  },
  {
   "cell_type": "code",
   "execution_count": 241,
   "metadata": {},
   "outputs": [
    {
     "data": {
      "text/plain": [
       "RangeIndex(start=0, stop=1, step=1)"
      ]
     },
     "execution_count": 241,
     "metadata": {},
     "output_type": "execute_result"
    }
   ],
   "source": [
    "CarsNew.columns"
   ]
  },
  {
   "cell_type": "code",
   "execution_count": 242,
   "metadata": {},
   "outputs": [
    {
     "name": "stdout",
     "output_type": "stream",
     "text": [
      "0\n"
     ]
    }
   ],
   "source": [
    "# Eliminating null values\n",
    "for i in CarsNew.columns:\n",
    "    CarsNew[i] = CarsNew[i].fillna(int(CarsNew[i].mean()))\n",
    "for i in CarsNew.columns:\n",
    "    print(CarsNew[i].isnull().sum())"
   ]
  },
  {
   "cell_type": "code",
   "execution_count": 243,
   "metadata": {},
   "outputs": [
    {
     "name": "stderr",
     "output_type": "stream",
     "text": [
      "<ipython-input-243-d87935e66159>:6: ConvergenceWarning: Number of distinct clusters (3) found smaller than n_clusters (4). Possibly due to duplicate points in X.\n",
      "  kmeans.fit(CarsNew)\n",
      "<ipython-input-243-d87935e66159>:6: ConvergenceWarning: Number of distinct clusters (3) found smaller than n_clusters (5). Possibly due to duplicate points in X.\n",
      "  kmeans.fit(CarsNew)\n",
      "<ipython-input-243-d87935e66159>:6: ConvergenceWarning: Number of distinct clusters (3) found smaller than n_clusters (6). Possibly due to duplicate points in X.\n",
      "  kmeans.fit(CarsNew)\n",
      "<ipython-input-243-d87935e66159>:6: ConvergenceWarning: Number of distinct clusters (3) found smaller than n_clusters (7). Possibly due to duplicate points in X.\n",
      "  kmeans.fit(CarsNew)\n",
      "<ipython-input-243-d87935e66159>:6: ConvergenceWarning: Number of distinct clusters (3) found smaller than n_clusters (8). Possibly due to duplicate points in X.\n",
      "  kmeans.fit(CarsNew)\n",
      "<ipython-input-243-d87935e66159>:6: ConvergenceWarning: Number of distinct clusters (3) found smaller than n_clusters (9). Possibly due to duplicate points in X.\n",
      "  kmeans.fit(CarsNew)\n",
      "<ipython-input-243-d87935e66159>:6: ConvergenceWarning: Number of distinct clusters (3) found smaller than n_clusters (10). Possibly due to duplicate points in X.\n",
      "  kmeans.fit(CarsNew)\n"
     ]
    },
    {
     "data": {
      "image/png": "[encoded data removed]",
      "text/plain": [
       "<Figure size 432x288 with 1 Axes>"
      ]
     },
     "metadata": {
      "needs_background": "light"
     },
     "output_type": "display_data"
    }
   ],
   "source": [
    "# Using the elbow method to find  the optimal number of clusters\n",
    "from sklearn.cluster import KMeans\n",
    "wcss = []\n",
    "for i in range(1,11):\n",
    "    kmeans = KMeans(n_clusters=i,init='k-means++',max_iter=300,n_init=10,random_state=0)\n",
    "    kmeans.fit(CarsNew)\n",
    "    wcss.append(kmeans.inertia_)\n",
    "plt.plot(range(1,11),wcss)\n",
    "plt.title('The Elbow Method')\n",
    "plt.xlabel('Number of clusters')\n",
    "plt.ylabel('WCSS')\n",
    "plt.show()"
   ]
  },
  {
   "cell_type": "code",
   "execution_count": 245,
   "metadata": {},
   "outputs": [],
   "source": [
    "# Applying k-means to the cars dataset\n",
    "kmeans = KMeans(n_clusters=3,init='k-means++',max_iter=300,n_init=10,random_state=0) \n",
    "y_kmeans = kmeans.fit_predict(CarsNew)"
   ]
  },
  {
   "cell_type": "code",
   "execution_count": 324,
   "metadata": {},
   "outputs": [],
   "source": [
    "Car_eval_data = pd.read_csv(cd+\"/Careval_Logical.csv\",index_col=0)"
   ]
  },
  {
   "cell_type": "code",
   "execution_count": 325,
   "metadata": {},
   "outputs": [],
   "source": [
    "# importing apriori model and association rules\n",
    "from mlxtend.frequent_patterns import apriori, association_rules\n",
    "\n",
    "# building the model\n",
    "freq_items = apriori(Car_eval_data, min_support = 0.05, use_colnames = True)\n",
    "\n",
    "# collecting rules in a dataframe\n",
    "rules = association_rules(freq_items, metric = \"lift\", min_threshold = 0.05)\n",
    "rules = rules.sort_values([\"support\", \"confidence\"], ascending = [False, False])"
   ]
  },
  {
   "cell_type": "code",
   "execution_count": 326,
   "metadata": {},
   "outputs": [
    {
     "data": {
      "text/html": [
       "<div>\n",
       "<style scoped>\n",
       "    .dataframe tbody tr th:only-of-type {\n",
       "        vertical-align: middle;\n",
       "    }\n",
       "\n",
       "    .dataframe tbody tr th {\n",
       "        vertical-align: top;\n",
       "    }\n",
       "\n",
       "    .dataframe thead th {\n",
       "        text-align: right;\n",
       "    }\n",
       "</style>\n",
       "<table border=\"1\" class=\"dataframe\">\n",
       "  <thead>\n",
       "    <tr style=\"text-align: right;\">\n",
       "      <th></th>\n",
       "      <th>antecedents</th>\n",
       "      <th>consequents</th>\n",
       "      <th>antecedent support</th>\n",
       "      <th>consequent support</th>\n",
       "      <th>support</th>\n",
       "      <th>confidence</th>\n",
       "      <th>lift</th>\n",
       "      <th>leverage</th>\n",
       "      <th>conviction</th>\n",
       "    </tr>\n",
       "  </thead>\n",
       "  <tbody>\n",
       "    <tr>\n",
       "      <th>30</th>\n",
       "      <td>(2person)</td>\n",
       "      <td>(unacc)</td>\n",
       "      <td>0.333333</td>\n",
       "      <td>0.700231</td>\n",
       "      <td>0.333333</td>\n",
       "      <td>1.000000</td>\n",
       "      <td>1.428099</td>\n",
       "      <td>0.099923</td>\n",
       "      <td>inf</td>\n",
       "    </tr>\n",
       "    <tr>\n",
       "      <th>333</th>\n",
       "      <td>(lowsafety)</td>\n",
       "      <td>(unacc)</td>\n",
       "      <td>0.333333</td>\n",
       "      <td>0.700231</td>\n",
       "      <td>0.333333</td>\n",
       "      <td>1.000000</td>\n",
       "      <td>1.428099</td>\n",
       "      <td>0.099923</td>\n",
       "      <td>inf</td>\n",
       "    </tr>\n",
       "    <tr>\n",
       "      <th>31</th>\n",
       "      <td>(unacc)</td>\n",
       "      <td>(2person)</td>\n",
       "      <td>0.700231</td>\n",
       "      <td>0.333333</td>\n",
       "      <td>0.333333</td>\n",
       "      <td>0.476033</td>\n",
       "      <td>1.428099</td>\n",
       "      <td>0.099923</td>\n",
       "      <td>1.272345</td>\n",
       "    </tr>\n",
       "  </tbody>\n",
       "</table>\n",
       "</div>"
      ],
      "text/plain": [
       "     antecedents consequents  antecedent support  consequent support  \\\n",
       "30     (2person)     (unacc)            0.333333            0.700231   \n",
       "333  (lowsafety)     (unacc)            0.333333            0.700231   \n",
       "31       (unacc)   (2person)            0.700231            0.333333   \n",
       "\n",
       "      support  confidence      lift  leverage  conviction  \n",
       "30   0.333333    1.000000  1.428099  0.099923         inf  \n",
       "333  0.333333    1.000000  1.428099  0.099923         inf  \n",
       "31   0.333333    0.476033  1.428099  0.099923    1.272345  "
      ]
     },
     "execution_count": 326,
     "metadata": {},
     "output_type": "execute_result"
    }
   ],
   "source": [
    "# top 3 single item frequent item sets\n",
    "rules.head(3)"
   ]
  },
  {
   "cell_type": "code",
   "execution_count": 331,
   "metadata": {},
   "outputs": [
    {
     "data": {
      "text/html": [
       "<div>\n",
       "<style scoped>\n",
       "    .dataframe tbody tr th:only-of-type {\n",
       "        vertical-align: middle;\n",
       "    }\n",
       "\n",
       "    .dataframe tbody tr th {\n",
       "        vertical-align: top;\n",
       "    }\n",
       "\n",
       "    .dataframe thead th {\n",
       "        text-align: right;\n",
       "    }\n",
       "</style>\n",
       "<table border=\"1\" class=\"dataframe\">\n",
       "  <thead>\n",
       "    <tr style=\"text-align: right;\">\n",
       "      <th></th>\n",
       "      <th>antecedents</th>\n",
       "      <th>consequents</th>\n",
       "      <th>antecedent support</th>\n",
       "      <th>consequent support</th>\n",
       "      <th>support</th>\n",
       "      <th>confidence</th>\n",
       "      <th>lift</th>\n",
       "      <th>leverage</th>\n",
       "      <th>conviction</th>\n",
       "    </tr>\n",
       "  </thead>\n",
       "  <tbody>\n",
       "    <tr>\n",
       "      <th>422</th>\n",
       "      <td>(2person, bigluggage)</td>\n",
       "      <td>(unacc)</td>\n",
       "      <td>0.111111</td>\n",
       "      <td>0.700231</td>\n",
       "      <td>0.111111</td>\n",
       "      <td>1.0</td>\n",
       "      <td>1.428099</td>\n",
       "      <td>0.033308</td>\n",
       "      <td>inf</td>\n",
       "    </tr>\n",
       "    <tr>\n",
       "      <th>440</th>\n",
       "      <td>(2person, highsafety)</td>\n",
       "      <td>(unacc)</td>\n",
       "      <td>0.111111</td>\n",
       "      <td>0.700231</td>\n",
       "      <td>0.111111</td>\n",
       "      <td>1.0</td>\n",
       "      <td>1.428099</td>\n",
       "      <td>0.033308</td>\n",
       "      <td>inf</td>\n",
       "    </tr>\n",
       "    <tr>\n",
       "      <th>458</th>\n",
       "      <td>(2person, lowsafety)</td>\n",
       "      <td>(unacc)</td>\n",
       "      <td>0.111111</td>\n",
       "      <td>0.700231</td>\n",
       "      <td>0.111111</td>\n",
       "      <td>1.0</td>\n",
       "      <td>1.428099</td>\n",
       "      <td>0.033308</td>\n",
       "      <td>inf</td>\n",
       "    </tr>\n",
       "  </tbody>\n",
       "</table>\n",
       "</div>"
      ],
      "text/plain": [
       "               antecedents consequents  antecedent support  \\\n",
       "422  (2person, bigluggage)     (unacc)            0.111111   \n",
       "440  (2person, highsafety)     (unacc)            0.111111   \n",
       "458   (2person, lowsafety)     (unacc)            0.111111   \n",
       "\n",
       "     consequent support   support  confidence      lift  leverage  conviction  \n",
       "422            0.700231  0.111111         1.0  1.428099  0.033308         inf  \n",
       "440            0.700231  0.111111         1.0  1.428099  0.033308         inf  \n",
       "458            0.700231  0.111111         1.0  1.428099  0.033308         inf  "
      ]
     },
     "execution_count": 331,
     "metadata": {},
     "output_type": "execute_result"
    }
   ],
   "source": [
    "# top 3 double item frequent item sets\n",
    "rules.loc[rules[\"antecedents\"].astype(str).str.count(\",\") == 1].head(3)"
   ]
  },
  {
   "cell_type": "code",
   "execution_count": 336,
   "metadata": {},
   "outputs": [
    {
     "data": {
      "text/html": [
       "<div>\n",
       "<style scoped>\n",
       "    .dataframe tbody tr th:only-of-type {\n",
       "        vertical-align: middle;\n",
       "    }\n",
       "\n",
       "    .dataframe tbody tr th {\n",
       "        vertical-align: top;\n",
       "    }\n",
       "\n",
       "    .dataframe thead th {\n",
       "        text-align: right;\n",
       "    }\n",
       "</style>\n",
       "<table border=\"1\" class=\"dataframe\">\n",
       "  <thead>\n",
       "    <tr style=\"text-align: right;\">\n",
       "      <th></th>\n",
       "      <th>antecedents</th>\n",
       "      <th>consequents</th>\n",
       "      <th>antecedent support</th>\n",
       "      <th>consequent support</th>\n",
       "      <th>support</th>\n",
       "      <th>confidence</th>\n",
       "      <th>lift</th>\n",
       "      <th>leverage</th>\n",
       "      <th>conviction</th>\n",
       "    </tr>\n",
       "  </thead>\n",
       "  <tbody>\n",
       "  </tbody>\n",
       "</table>\n",
       "</div>"
      ],
      "text/plain": [
       "Empty DataFrame\n",
       "Columns: [antecedents, consequents, antecedent support, consequent support, support, confidence, lift, leverage, conviction]\n",
       "Index: []"
      ]
     },
     "execution_count": 336,
     "metadata": {},
     "output_type": "execute_result"
    }
   ],
   "source": [
    "# top 3 double item frequent item sets\n",
    "rules.loc[rules[\"antecedents\"].astype(str).str.count(\",\") == 2].head(3)"
   ]
  },
  {
   "cell_type": "code",
   "execution_count": 337,
   "metadata": {},
   "outputs": [],
   "source": [
    "# K-Means Clustering"
   ]
  },
  {
   "cell_type": "code",
   "execution_count": 371,
   "metadata": {},
   "outputs": [
    {
     "data": {
      "text/html": [
       "<div>\n",
       "<style scoped>\n",
       "    .dataframe tbody tr th:only-of-type {\n",
       "        vertical-align: middle;\n",
       "    }\n",
       "\n",
       "    .dataframe tbody tr th {\n",
       "        vertical-align: top;\n",
       "    }\n",
       "\n",
       "    .dataframe thead th {\n",
       "        text-align: right;\n",
       "    }\n",
       "</style>\n",
       "<table border=\"1\" class=\"dataframe\">\n",
       "  <thead>\n",
       "    <tr style=\"text-align: right;\">\n",
       "      <th></th>\n",
       "      <th>PurchasePrice</th>\n",
       "      <th>MaintenanceCosts</th>\n",
       "      <th>Doors</th>\n",
       "      <th>Persons</th>\n",
       "      <th>LuggaeBoot</th>\n",
       "      <th>Safety</th>\n",
       "      <th>Rating</th>\n",
       "    </tr>\n",
       "    <tr>\n",
       "      <th>VehicleNumber</th>\n",
       "      <th></th>\n",
       "      <th></th>\n",
       "      <th></th>\n",
       "      <th></th>\n",
       "      <th></th>\n",
       "      <th></th>\n",
       "      <th></th>\n",
       "    </tr>\n",
       "  </thead>\n",
       "  <tbody>\n",
       "    <tr>\n",
       "      <th>1</th>\n",
       "      <td>3</td>\n",
       "      <td>3</td>\n",
       "      <td>2</td>\n",
       "      <td>2</td>\n",
       "      <td>0</td>\n",
       "      <td>0</td>\n",
       "      <td>4</td>\n",
       "    </tr>\n",
       "    <tr>\n",
       "      <th>2</th>\n",
       "      <td>3</td>\n",
       "      <td>3</td>\n",
       "      <td>2</td>\n",
       "      <td>2</td>\n",
       "      <td>0</td>\n",
       "      <td>1</td>\n",
       "      <td>4</td>\n",
       "    </tr>\n",
       "    <tr>\n",
       "      <th>3</th>\n",
       "      <td>3</td>\n",
       "      <td>3</td>\n",
       "      <td>2</td>\n",
       "      <td>2</td>\n",
       "      <td>0</td>\n",
       "      <td>2</td>\n",
       "      <td>4</td>\n",
       "    </tr>\n",
       "    <tr>\n",
       "      <th>4</th>\n",
       "      <td>3</td>\n",
       "      <td>3</td>\n",
       "      <td>2</td>\n",
       "      <td>2</td>\n",
       "      <td>1</td>\n",
       "      <td>0</td>\n",
       "      <td>4</td>\n",
       "    </tr>\n",
       "    <tr>\n",
       "      <th>5</th>\n",
       "      <td>3</td>\n",
       "      <td>3</td>\n",
       "      <td>2</td>\n",
       "      <td>2</td>\n",
       "      <td>1</td>\n",
       "      <td>1</td>\n",
       "      <td>4</td>\n",
       "    </tr>\n",
       "  </tbody>\n",
       "</table>\n",
       "</div>"
      ],
      "text/plain": [
       "               PurchasePrice  MaintenanceCosts  Doors  Persons  LuggaeBoot  \\\n",
       "VehicleNumber                                                                \n",
       "1                          3                 3      2        2           0   \n",
       "2                          3                 3      2        2           0   \n",
       "3                          3                 3      2        2           0   \n",
       "4                          3                 3      2        2           1   \n",
       "5                          3                 3      2        2           1   \n",
       "\n",
       "               Safety  Rating  \n",
       "VehicleNumber                  \n",
       "1                   0       4  \n",
       "2                   1       4  \n",
       "3                   2       4  \n",
       "4                   0       4  \n",
       "5                   1       4  "
      ]
     },
     "execution_count": 371,
     "metadata": {},
     "output_type": "execute_result"
    }
   ],
   "source": [
    "# first five rows\n",
    "Carevaluation.head()"
   ]
  },
  {
   "cell_type": "code",
   "execution_count": 375,
   "metadata": {},
   "outputs": [],
   "source": [
    "%matplotlib inline\n",
    "import matplotlib.pyplot as plt\n",
    "import numpy as np\n",
    "import pandas as pd\n",
    "import seaborn as sns\n",
    "\n",
    "from mlxtend.frequent_patterns import apriori, association_rules\n",
    "\n",
    "from sklearn.cluster import KMeans\n",
    "from sklearn.preprocessing import StandardScaler, MinMaxScaler\n",
    "from sklearn.decomposition import PCA\n",
    "\n",
    "from sklearn.model_selection import train_test_split, GridSearchCV\n",
    "from sklearn.neighbors import KNeighborsClassifier\n",
    "from sklearn.metrics import accuracy_score, plot_confusion_matrix\n",
    "\n",
    "import plotly.express as px\n",
    "import plotly.graph_objects as go\n",
    "from ipywidgets import interact"
   ]
  },
  {
   "cell_type": "code",
   "execution_count": 376,
   "metadata": {},
   "outputs": [],
   "source": [
    "# converting categorical variable to numerical\n",
    "X = Carevaluation.drop('PurchasePrice', 1)"
   ]
  },
  {
   "cell_type": "code",
   "execution_count": 377,
   "metadata": {},
   "outputs": [],
   "source": [
    "scaler = MinMaxScaler()\n",
    "X_std = pd.DataFrame(scaler.fit_transform(X), columns=X.columns)"
   ]
  },
  {
   "cell_type": "code",
   "execution_count": 378,
   "metadata": {},
   "outputs": [],
   "source": [
    "pca = PCA(n_components=2)\n",
    "pca_df = pd.DataFrame(pca.fit_transform(X_std), columns=[\"c0\", \"c1\"])"
   ]
  },
  {
   "cell_type": "code",
   "execution_count": 379,
   "metadata": {},
   "outputs": [
    {
     "name": "stdout",
     "output_type": "stream",
     "text": [
      "KMeans with 2 Clusters\n"
     ]
    },
    {
     "data": {
      "text/html": [
       "<style  type=\"text/css\" >\n",
       "#T_a46dc99b_860f_11eb_ae07_d46a6a34394crow0_col0,#T_a46dc99b_860f_11eb_ae07_d46a6a34394crow0_col1,#T_a46dc99b_860f_11eb_ae07_d46a6a34394crow0_col2,#T_a46dc99b_860f_11eb_ae07_d46a6a34394crow0_col3,#T_a46dc99b_860f_11eb_ae07_d46a6a34394crow0_col4,#T_a46dc99b_860f_11eb_ae07_d46a6a34394crow0_col6,#T_a46dc99b_860f_11eb_ae07_d46a6a34394crow1_col0,#T_a46dc99b_860f_11eb_ae07_d46a6a34394crow1_col1,#T_a46dc99b_860f_11eb_ae07_d46a6a34394crow1_col3,#T_a46dc99b_860f_11eb_ae07_d46a6a34394crow1_col4,#T_a46dc99b_860f_11eb_ae07_d46a6a34394crow1_col5{\n",
       "            background-color:  #fff7fb;\n",
       "            color:  #000000;\n",
       "        }#T_a46dc99b_860f_11eb_ae07_d46a6a34394crow0_col5,#T_a46dc99b_860f_11eb_ae07_d46a6a34394crow1_col2,#T_a46dc99b_860f_11eb_ae07_d46a6a34394crow1_col6{\n",
       "            background-color:  #023858;\n",
       "            color:  #f1f1f1;\n",
       "        }</style><table id=\"T_a46dc99b_860f_11eb_ae07_d46a6a34394c\" ><thead>    <tr>        <th class=\"blank level0\" ></th>        <th class=\"col_heading level0 col0\" >MaintenanceCosts</th>        <th class=\"col_heading level0 col1\" >Doors</th>        <th class=\"col_heading level0 col2\" >Persons</th>        <th class=\"col_heading level0 col3\" >LuggaeBoot</th>        <th class=\"col_heading level0 col4\" >Safety</th>        <th class=\"col_heading level0 col5\" >Rating</th>        <th class=\"col_heading level0 col6\" >Count</th>    </tr>    <tr>        <th class=\"index_name level0\" >Clusters</th>        <th class=\"blank\" ></th>        <th class=\"blank\" ></th>        <th class=\"blank\" ></th>        <th class=\"blank\" ></th>        <th class=\"blank\" ></th>        <th class=\"blank\" ></th>        <th class=\"blank\" ></th>    </tr></thead><tbody>\n",
       "                <tr>\n",
       "                        <th id=\"T_a46dc99b_860f_11eb_ae07_d46a6a34394clevel0_row0\" class=\"row_heading level0 row0\" >0</th>\n",
       "                        <td id=\"T_a46dc99b_860f_11eb_ae07_d46a6a34394crow0_col0\" class=\"data row0 col0\" >1.500000</td>\n",
       "                        <td id=\"T_a46dc99b_860f_11eb_ae07_d46a6a34394crow0_col1\" class=\"data row0 col1\" >3.500000</td>\n",
       "                        <td id=\"T_a46dc99b_860f_11eb_ae07_d46a6a34394crow0_col2\" class=\"data row0 col2\" >2.000000</td>\n",
       "                        <td id=\"T_a46dc99b_860f_11eb_ae07_d46a6a34394crow0_col3\" class=\"data row0 col3\" >1.000000</td>\n",
       "                        <td id=\"T_a46dc99b_860f_11eb_ae07_d46a6a34394crow0_col4\" class=\"data row0 col4\" >1.000000</td>\n",
       "                        <td id=\"T_a46dc99b_860f_11eb_ae07_d46a6a34394crow0_col5\" class=\"data row0 col5\" >4.000000</td>\n",
       "                        <td id=\"T_a46dc99b_860f_11eb_ae07_d46a6a34394crow0_col6\" class=\"data row0 col6\" >576</td>\n",
       "            </tr>\n",
       "            <tr>\n",
       "                        <th id=\"T_a46dc99b_860f_11eb_ae07_d46a6a34394clevel0_row1\" class=\"row_heading level0 row1\" >1</th>\n",
       "                        <td id=\"T_a46dc99b_860f_11eb_ae07_d46a6a34394crow1_col0\" class=\"data row1 col0\" >1.500000</td>\n",
       "                        <td id=\"T_a46dc99b_860f_11eb_ae07_d46a6a34394crow1_col1\" class=\"data row1 col1\" >3.500000</td>\n",
       "                        <td id=\"T_a46dc99b_860f_11eb_ae07_d46a6a34394crow1_col2\" class=\"data row1 col2\" >4.500000</td>\n",
       "                        <td id=\"T_a46dc99b_860f_11eb_ae07_d46a6a34394crow1_col3\" class=\"data row1 col3\" >1.000000</td>\n",
       "                        <td id=\"T_a46dc99b_860f_11eb_ae07_d46a6a34394crow1_col4\" class=\"data row1 col4\" >1.000000</td>\n",
       "                        <td id=\"T_a46dc99b_860f_11eb_ae07_d46a6a34394crow1_col5\" class=\"data row1 col5\" >3.374132</td>\n",
       "                        <td id=\"T_a46dc99b_860f_11eb_ae07_d46a6a34394crow1_col6\" class=\"data row1 col6\" >1152</td>\n",
       "            </tr>\n",
       "    </tbody></table>"
      ],
      "text/plain": [
       "<pandas.io.formats.style.Styler at 0x197dc613b50>"
      ]
     },
     "metadata": {},
     "output_type": "display_data"
    },
    {
     "data": {
      "image/png": "[encoded data removed]",
      "text/plain": [
       "<Figure size 432x288 with 1 Axes>"
      ]
     },
     "metadata": {
      "needs_background": "light"
     },
     "output_type": "display_data"
    },
    {
     "name": "stdout",
     "output_type": "stream",
     "text": [
      "\n",
      "\n",
      "KMeans with 3 Clusters\n"
     ]
    },
    {
     "data": {
      "text/html": [
       "<style  type=\"text/css\" >\n",
       "#T_a4c99478_860f_11eb_8af0_d46a6a34394crow0_col0,#T_a4c99478_860f_11eb_8af0_d46a6a34394crow0_col5,#T_a4c99478_860f_11eb_8af0_d46a6a34394crow1_col1,#T_a4c99478_860f_11eb_8af0_d46a6a34394crow1_col3,#T_a4c99478_860f_11eb_8af0_d46a6a34394crow1_col4,#T_a4c99478_860f_11eb_8af0_d46a6a34394crow1_col6,#T_a4c99478_860f_11eb_8af0_d46a6a34394crow2_col2{\n",
       "            background-color:  #fff7fb;\n",
       "            color:  #000000;\n",
       "        }#T_a4c99478_860f_11eb_8af0_d46a6a34394crow0_col1,#T_a4c99478_860f_11eb_8af0_d46a6a34394crow0_col2,#T_a4c99478_860f_11eb_8af0_d46a6a34394crow0_col3,#T_a4c99478_860f_11eb_8af0_d46a6a34394crow0_col4,#T_a4c99478_860f_11eb_8af0_d46a6a34394crow0_col6,#T_a4c99478_860f_11eb_8af0_d46a6a34394crow1_col0,#T_a4c99478_860f_11eb_8af0_d46a6a34394crow2_col5{\n",
       "            background-color:  #023858;\n",
       "            color:  #f1f1f1;\n",
       "        }#T_a4c99478_860f_11eb_8af0_d46a6a34394crow1_col2{\n",
       "            background-color:  #02395a;\n",
       "            color:  #f1f1f1;\n",
       "        }#T_a4c99478_860f_11eb_8af0_d46a6a34394crow1_col5{\n",
       "            background-color:  #03466e;\n",
       "            color:  #f1f1f1;\n",
       "        }#T_a4c99478_860f_11eb_8af0_d46a6a34394crow2_col0{\n",
       "            background-color:  #79abd0;\n",
       "            color:  #000000;\n",
       "        }#T_a4c99478_860f_11eb_8af0_d46a6a34394crow2_col1,#T_a4c99478_860f_11eb_8af0_d46a6a34394crow2_col3,#T_a4c99478_860f_11eb_8af0_d46a6a34394crow2_col4{\n",
       "            background-color:  #6da6cd;\n",
       "            color:  #000000;\n",
       "        }#T_a4c99478_860f_11eb_8af0_d46a6a34394crow2_col6{\n",
       "            background-color:  #73a9cf;\n",
       "            color:  #000000;\n",
       "        }</style><table id=\"T_a4c99478_860f_11eb_8af0_d46a6a34394c\" ><thead>    <tr>        <th class=\"blank level0\" ></th>        <th class=\"col_heading level0 col0\" >MaintenanceCosts</th>        <th class=\"col_heading level0 col1\" >Doors</th>        <th class=\"col_heading level0 col2\" >Persons</th>        <th class=\"col_heading level0 col3\" >LuggaeBoot</th>        <th class=\"col_heading level0 col4\" >Safety</th>        <th class=\"col_heading level0 col5\" >Rating</th>        <th class=\"col_heading level0 col6\" >Count</th>    </tr>    <tr>        <th class=\"index_name level0\" >Clusters</th>        <th class=\"blank\" ></th>        <th class=\"blank\" ></th>        <th class=\"blank\" ></th>        <th class=\"blank\" ></th>        <th class=\"blank\" ></th>        <th class=\"blank\" ></th>        <th class=\"blank\" ></th>    </tr></thead><tbody>\n",
       "                <tr>\n",
       "                        <th id=\"T_a4c99478_860f_11eb_8af0_d46a6a34394clevel0_row0\" class=\"row_heading level0 row0\" >0</th>\n",
       "                        <td id=\"T_a4c99478_860f_11eb_8af0_d46a6a34394crow0_col0\" class=\"data row0 col0\" >1.452703</td>\n",
       "                        <td id=\"T_a4c99478_860f_11eb_8af0_d46a6a34394crow0_col1\" class=\"data row0 col1\" >3.547297</td>\n",
       "                        <td id=\"T_a4c99478_860f_11eb_8af0_d46a6a34394crow0_col2\" class=\"data row0 col2\" >4.506757</td>\n",
       "                        <td id=\"T_a4c99478_860f_11eb_8af0_d46a6a34394crow0_col3\" class=\"data row0 col3\" >1.216216</td>\n",
       "                        <td id=\"T_a4c99478_860f_11eb_8af0_d46a6a34394crow0_col4\" class=\"data row0 col4\" >1.648649</td>\n",
       "                        <td id=\"T_a4c99478_860f_11eb_8af0_d46a6a34394crow0_col5\" class=\"data row0 col5\" >2.841216</td>\n",
       "                        <td id=\"T_a4c99478_860f_11eb_8af0_d46a6a34394crow0_col6\" class=\"data row0 col6\" >592</td>\n",
       "            </tr>\n",
       "            <tr>\n",
       "                        <th id=\"T_a4c99478_860f_11eb_8af0_d46a6a34394clevel0_row1\" class=\"row_heading level0 row1\" >1</th>\n",
       "                        <td id=\"T_a4c99478_860f_11eb_8af0_d46a6a34394crow1_col0\" class=\"data row1 col0\" >1.550000</td>\n",
       "                        <td id=\"T_a4c99478_860f_11eb_8af0_d46a6a34394crow1_col1\" class=\"data row1 col1\" >3.450000</td>\n",
       "                        <td id=\"T_a4c99478_860f_11eb_8af0_d46a6a34394crow1_col2\" class=\"data row1 col2\" >4.492857</td>\n",
       "                        <td id=\"T_a4c99478_860f_11eb_8af0_d46a6a34394crow1_col3\" class=\"data row1 col3\" >0.771429</td>\n",
       "                        <td id=\"T_a4c99478_860f_11eb_8af0_d46a6a34394crow1_col4\" class=\"data row1 col4\" >0.314286</td>\n",
       "                        <td id=\"T_a4c99478_860f_11eb_8af0_d46a6a34394crow1_col5\" class=\"data row1 col5\" >3.937500</td>\n",
       "                        <td id=\"T_a4c99478_860f_11eb_8af0_d46a6a34394crow1_col6\" class=\"data row1 col6\" >560</td>\n",
       "            </tr>\n",
       "            <tr>\n",
       "                        <th id=\"T_a4c99478_860f_11eb_8af0_d46a6a34394clevel0_row2\" class=\"row_heading level0 row2\" >2</th>\n",
       "                        <td id=\"T_a4c99478_860f_11eb_8af0_d46a6a34394crow2_col0\" class=\"data row2 col0\" >1.500000</td>\n",
       "                        <td id=\"T_a4c99478_860f_11eb_8af0_d46a6a34394crow2_col1\" class=\"data row2 col1\" >3.500000</td>\n",
       "                        <td id=\"T_a4c99478_860f_11eb_8af0_d46a6a34394crow2_col2\" class=\"data row2 col2\" >2.000000</td>\n",
       "                        <td id=\"T_a4c99478_860f_11eb_8af0_d46a6a34394crow2_col3\" class=\"data row2 col3\" >1.000000</td>\n",
       "                        <td id=\"T_a4c99478_860f_11eb_8af0_d46a6a34394crow2_col4\" class=\"data row2 col4\" >1.000000</td>\n",
       "                        <td id=\"T_a4c99478_860f_11eb_8af0_d46a6a34394crow2_col5\" class=\"data row2 col5\" >4.000000</td>\n",
       "                        <td id=\"T_a4c99478_860f_11eb_8af0_d46a6a34394crow2_col6\" class=\"data row2 col6\" >576</td>\n",
       "            </tr>\n",
       "    </tbody></table>"
      ],
      "text/plain": [
       "<pandas.io.formats.style.Styler at 0x197dd169b50>"
      ]
     },
     "metadata": {},
     "output_type": "display_data"
    },
    {
     "data": {
      "image/png": "[encoded data removed]",
      "text/plain": [
       "<Figure size 432x288 with 1 Axes>"
      ]
     },
     "metadata": {
      "needs_background": "light"
     },
     "output_type": "display_data"
    },
    {
     "name": "stdout",
     "output_type": "stream",
     "text": [
      "\n",
      "\n",
      "KMeans with 4 Clusters\n"
     ]
    },
    {
     "data": {
      "text/html": [
       "<style  type=\"text/css\" >\n",
       "#T_a538d30d_860f_11eb_9c71_d46a6a34394crow0_col0,#T_a538d30d_860f_11eb_9c71_d46a6a34394crow0_col2,#T_a538d30d_860f_11eb_9c71_d46a6a34394crow0_col4,#T_a538d30d_860f_11eb_9c71_d46a6a34394crow1_col5,#T_a538d30d_860f_11eb_9c71_d46a6a34394crow1_col6,#T_a538d30d_860f_11eb_9c71_d46a6a34394crow2_col5,#T_a538d30d_860f_11eb_9c71_d46a6a34394crow3_col1,#T_a538d30d_860f_11eb_9c71_d46a6a34394crow3_col2,#T_a538d30d_860f_11eb_9c71_d46a6a34394crow3_col3{\n",
       "            background-color:  #023858;\n",
       "            color:  #f1f1f1;\n",
       "        }#T_a538d30d_860f_11eb_9c71_d46a6a34394crow0_col1{\n",
       "            background-color:  #056ead;\n",
       "            color:  #f1f1f1;\n",
       "        }#T_a538d30d_860f_11eb_9c71_d46a6a34394crow0_col3,#T_a538d30d_860f_11eb_9c71_d46a6a34394crow0_col6,#T_a538d30d_860f_11eb_9c71_d46a6a34394crow1_col2,#T_a538d30d_860f_11eb_9c71_d46a6a34394crow2_col1,#T_a538d30d_860f_11eb_9c71_d46a6a34394crow2_col4,#T_a538d30d_860f_11eb_9c71_d46a6a34394crow3_col0,#T_a538d30d_860f_11eb_9c71_d46a6a34394crow3_col5{\n",
       "            background-color:  #fff7fb;\n",
       "            color:  #000000;\n",
       "        }#T_a538d30d_860f_11eb_9c71_d46a6a34394crow0_col5{\n",
       "            background-color:  #73a9cf;\n",
       "            color:  #000000;\n",
       "        }#T_a538d30d_860f_11eb_9c71_d46a6a34394crow1_col0{\n",
       "            background-color:  #6da6cd;\n",
       "            color:  #000000;\n",
       "        }#T_a538d30d_860f_11eb_9c71_d46a6a34394crow1_col1{\n",
       "            background-color:  #569dc8;\n",
       "            color:  #000000;\n",
       "        }#T_a538d30d_860f_11eb_9c71_d46a6a34394crow1_col3,#T_a538d30d_860f_11eb_9c71_d46a6a34394crow2_col3{\n",
       "            background-color:  #4e9ac6;\n",
       "            color:  #000000;\n",
       "        }#T_a538d30d_860f_11eb_9c71_d46a6a34394crow1_col4{\n",
       "            background-color:  #3991c1;\n",
       "            color:  #000000;\n",
       "        }#T_a538d30d_860f_11eb_9c71_d46a6a34394crow2_col0{\n",
       "            background-color:  #2987bc;\n",
       "            color:  #000000;\n",
       "        }#T_a538d30d_860f_11eb_9c71_d46a6a34394crow2_col2{\n",
       "            background-color:  #02395a;\n",
       "            color:  #f1f1f1;\n",
       "        }#T_a538d30d_860f_11eb_9c71_d46a6a34394crow2_col6{\n",
       "            background-color:  #81aed2;\n",
       "            color:  #000000;\n",
       "        }#T_a538d30d_860f_11eb_9c71_d46a6a34394crow3_col4{\n",
       "            background-color:  #023c5f;\n",
       "            color:  #f1f1f1;\n",
       "        }#T_a538d30d_860f_11eb_9c71_d46a6a34394crow3_col6{\n",
       "            background-color:  #9cb9d9;\n",
       "            color:  #000000;\n",
       "        }</style><table id=\"T_a538d30d_860f_11eb_9c71_d46a6a34394c\" ><thead>    <tr>        <th class=\"blank level0\" ></th>        <th class=\"col_heading level0 col0\" >MaintenanceCosts</th>        <th class=\"col_heading level0 col1\" >Doors</th>        <th class=\"col_heading level0 col2\" >Persons</th>        <th class=\"col_heading level0 col3\" >LuggaeBoot</th>        <th class=\"col_heading level0 col4\" >Safety</th>        <th class=\"col_heading level0 col5\" >Rating</th>        <th class=\"col_heading level0 col6\" >Count</th>    </tr>    <tr>        <th class=\"index_name level0\" >Clusters</th>        <th class=\"blank\" ></th>        <th class=\"blank\" ></th>        <th class=\"blank\" ></th>        <th class=\"blank\" ></th>        <th class=\"blank\" ></th>        <th class=\"blank\" ></th>        <th class=\"blank\" ></th>    </tr></thead><tbody>\n",
       "                <tr>\n",
       "                        <th id=\"T_a538d30d_860f_11eb_9c71_d46a6a34394clevel0_row0\" class=\"row_heading level0 row0\" >0</th>\n",
       "                        <td id=\"T_a538d30d_860f_11eb_9c71_d46a6a34394crow0_col0\" class=\"data row0 col0\" >1.718954</td>\n",
       "                        <td id=\"T_a538d30d_860f_11eb_9c71_d46a6a34394crow0_col1\" class=\"data row0 col1\" >3.522876</td>\n",
       "                        <td id=\"T_a538d30d_860f_11eb_9c71_d46a6a34394crow0_col2\" class=\"data row0 col2\" >4.503268</td>\n",
       "                        <td id=\"T_a538d30d_860f_11eb_9c71_d46a6a34394crow0_col3\" class=\"data row0 col3\" >0.163399</td>\n",
       "                        <td id=\"T_a538d30d_860f_11eb_9c71_d46a6a34394crow0_col4\" class=\"data row0 col4\" >1.549020</td>\n",
       "                        <td id=\"T_a538d30d_860f_11eb_9c71_d46a6a34394crow0_col5\" class=\"data row0 col5\" >3.366013</td>\n",
       "                        <td id=\"T_a538d30d_860f_11eb_9c71_d46a6a34394crow0_col6\" class=\"data row0 col6\" >306</td>\n",
       "            </tr>\n",
       "            <tr>\n",
       "                        <th id=\"T_a538d30d_860f_11eb_9c71_d46a6a34394clevel0_row1\" class=\"row_heading level0 row1\" >1</th>\n",
       "                        <td id=\"T_a538d30d_860f_11eb_9c71_d46a6a34394crow1_col0\" class=\"data row1 col0\" >1.500000</td>\n",
       "                        <td id=\"T_a538d30d_860f_11eb_9c71_d46a6a34394crow1_col1\" class=\"data row1 col1\" >3.500000</td>\n",
       "                        <td id=\"T_a538d30d_860f_11eb_9c71_d46a6a34394crow1_col2\" class=\"data row1 col2\" >2.000000</td>\n",
       "                        <td id=\"T_a538d30d_860f_11eb_9c71_d46a6a34394crow1_col3\" class=\"data row1 col3\" >1.000000</td>\n",
       "                        <td id=\"T_a538d30d_860f_11eb_9c71_d46a6a34394crow1_col4\" class=\"data row1 col4\" >1.000000</td>\n",
       "                        <td id=\"T_a538d30d_860f_11eb_9c71_d46a6a34394crow1_col5\" class=\"data row1 col5\" >4.000000</td>\n",
       "                        <td id=\"T_a538d30d_860f_11eb_9c71_d46a6a34394crow1_col6\" class=\"data row1 col6\" >576</td>\n",
       "            </tr>\n",
       "            <tr>\n",
       "                        <th id=\"T_a538d30d_860f_11eb_9c71_d46a6a34394clevel0_row2\" class=\"row_heading level0 row2\" >2</th>\n",
       "                        <td id=\"T_a538d30d_860f_11eb_9c71_d46a6a34394crow2_col0\" class=\"data row2 col0\" >1.564815</td>\n",
       "                        <td id=\"T_a538d30d_860f_11eb_9c71_d46a6a34394crow2_col1\" class=\"data row2 col1\" >3.435185</td>\n",
       "                        <td id=\"T_a538d30d_860f_11eb_9c71_d46a6a34394crow2_col2\" class=\"data row2 col2\" >4.490741</td>\n",
       "                        <td id=\"T_a538d30d_860f_11eb_9c71_d46a6a34394crow2_col3\" class=\"data row2 col3\" >1.000000</td>\n",
       "                        <td id=\"T_a538d30d_860f_11eb_9c71_d46a6a34394crow2_col4\" class=\"data row2 col4\" >0.111111</td>\n",
       "                        <td id=\"T_a538d30d_860f_11eb_9c71_d46a6a34394crow2_col5\" class=\"data row2 col5\" >4.000000</td>\n",
       "                        <td id=\"T_a538d30d_860f_11eb_9c71_d46a6a34394crow2_col6\" class=\"data row2 col6\" >432</td>\n",
       "            </tr>\n",
       "            <tr>\n",
       "                        <th id=\"T_a538d30d_860f_11eb_9c71_d46a6a34394clevel0_row3\" class=\"row_heading level0 row3\" >3</th>\n",
       "                        <td id=\"T_a538d30d_860f_11eb_9c71_d46a6a34394crow3_col0\" class=\"data row3 col0\" >1.270531</td>\n",
       "                        <td id=\"T_a538d30d_860f_11eb_9c71_d46a6a34394crow3_col1\" class=\"data row3 col1\" >3.550725</td>\n",
       "                        <td id=\"T_a538d30d_860f_11eb_9c71_d46a6a34394crow3_col2\" class=\"data row3 col2\" >4.507246</td>\n",
       "                        <td id=\"T_a538d30d_860f_11eb_9c71_d46a6a34394crow3_col3\" class=\"data row3 col3\" >1.618357</td>\n",
       "                        <td id=\"T_a538d30d_860f_11eb_9c71_d46a6a34394crow3_col4\" class=\"data row3 col4\" >1.521739</td>\n",
       "                        <td id=\"T_a538d30d_860f_11eb_9c71_d46a6a34394crow3_col5\" class=\"data row3 col5\" >2.727053</td>\n",
       "                        <td id=\"T_a538d30d_860f_11eb_9c71_d46a6a34394crow3_col6\" class=\"data row3 col6\" >414</td>\n",
       "            </tr>\n",
       "    </tbody></table>"
      ],
      "text/plain": [
       "<pandas.io.formats.style.Styler at 0x197dcb1c520>"
      ]
     },
     "metadata": {},
     "output_type": "display_data"
    },
    {
     "data": {
      "image/png": "[encoded data removed]",
      "text/plain": [
       "<Figure size 432x288 with 1 Axes>"
      ]
     },
     "metadata": {
      "needs_background": "light"
     },
     "output_type": "display_data"
    },
    {
     "name": "stdout",
     "output_type": "stream",
     "text": [
      "\n",
      "\n",
      "KMeans with 5 Clusters\n"
     ]
    },
    {
     "data": {
      "text/html": [
       "<style  type=\"text/css\" >\n",
       "#T_a5b6b55f_860f_11eb_8b12_d46a6a34394crow0_col0{\n",
       "            background-color:  #03456c;\n",
       "            color:  #f1f1f1;\n",
       "        }#T_a5b6b55f_860f_11eb_8b12_d46a6a34394crow0_col1{\n",
       "            background-color:  #bbc7e0;\n",
       "            color:  #000000;\n",
       "        }#T_a5b6b55f_860f_11eb_8b12_d46a6a34394crow0_col2{\n",
       "            background-color:  #02395a;\n",
       "            color:  #f1f1f1;\n",
       "        }#T_a5b6b55f_860f_11eb_8b12_d46a6a34394crow0_col3,#T_a5b6b55f_860f_11eb_8b12_d46a6a34394crow1_col1,#T_a5b6b55f_860f_11eb_8b12_d46a6a34394crow1_col4,#T_a5b6b55f_860f_11eb_8b12_d46a6a34394crow2_col0,#T_a5b6b55f_860f_11eb_8b12_d46a6a34394crow2_col5,#T_a5b6b55f_860f_11eb_8b12_d46a6a34394crow4_col2,#T_a5b6b55f_860f_11eb_8b12_d46a6a34394crow4_col6{\n",
       "            background-color:  #fff7fb;\n",
       "            color:  #000000;\n",
       "        }#T_a5b6b55f_860f_11eb_8b12_d46a6a34394crow0_col4{\n",
       "            background-color:  #023e62;\n",
       "            color:  #f1f1f1;\n",
       "        }#T_a5b6b55f_860f_11eb_8b12_d46a6a34394crow0_col5{\n",
       "            background-color:  #60a1ca;\n",
       "            color:  #000000;\n",
       "        }#T_a5b6b55f_860f_11eb_8b12_d46a6a34394crow0_col6{\n",
       "            background-color:  #046096;\n",
       "            color:  #f1f1f1;\n",
       "        }#T_a5b6b55f_860f_11eb_8b12_d46a6a34394crow1_col0{\n",
       "            background-color:  #8cb3d5;\n",
       "            color:  #000000;\n",
       "        }#T_a5b6b55f_860f_11eb_8b12_d46a6a34394crow1_col2{\n",
       "            background-color:  #023a5b;\n",
       "            color:  #f1f1f1;\n",
       "        }#T_a5b6b55f_860f_11eb_8b12_d46a6a34394crow1_col3{\n",
       "            background-color:  #75a9cf;\n",
       "            color:  #000000;\n",
       "        }#T_a5b6b55f_860f_11eb_8b12_d46a6a34394crow1_col5,#T_a5b6b55f_860f_11eb_8b12_d46a6a34394crow1_col6,#T_a5b6b55f_860f_11eb_8b12_d46a6a34394crow2_col1,#T_a5b6b55f_860f_11eb_8b12_d46a6a34394crow2_col2,#T_a5b6b55f_860f_11eb_8b12_d46a6a34394crow2_col3,#T_a5b6b55f_860f_11eb_8b12_d46a6a34394crow2_col4,#T_a5b6b55f_860f_11eb_8b12_d46a6a34394crow3_col0,#T_a5b6b55f_860f_11eb_8b12_d46a6a34394crow3_col3,#T_a5b6b55f_860f_11eb_8b12_d46a6a34394crow3_col5,#T_a5b6b55f_860f_11eb_8b12_d46a6a34394crow4_col5{\n",
       "            background-color:  #023858;\n",
       "            color:  #f1f1f1;\n",
       "        }#T_a5b6b55f_860f_11eb_8b12_d46a6a34394crow2_col6{\n",
       "            background-color:  #056faf;\n",
       "            color:  #f1f1f1;\n",
       "        }#T_a5b6b55f_860f_11eb_8b12_d46a6a34394crow3_col1,#T_a5b6b55f_860f_11eb_8b12_d46a6a34394crow4_col1{\n",
       "            background-color:  #91b5d6;\n",
       "            color:  #000000;\n",
       "        }#T_a5b6b55f_860f_11eb_8b12_d46a6a34394crow3_col2{\n",
       "            background-color:  #fcf4fa;\n",
       "            color:  #000000;\n",
       "        }#T_a5b6b55f_860f_11eb_8b12_d46a6a34394crow3_col4,#T_a5b6b55f_860f_11eb_8b12_d46a6a34394crow4_col4{\n",
       "            background-color:  #2d8abd;\n",
       "            color:  #000000;\n",
       "        }#T_a5b6b55f_860f_11eb_8b12_d46a6a34394crow3_col6{\n",
       "            background-color:  #f4eef6;\n",
       "            color:  #000000;\n",
       "        }#T_a5b6b55f_860f_11eb_8b12_d46a6a34394crow4_col0{\n",
       "            background-color:  #fef6fa;\n",
       "            color:  #000000;\n",
       "        }#T_a5b6b55f_860f_11eb_8b12_d46a6a34394crow4_col3{\n",
       "            background-color:  #fef6fb;\n",
       "            color:  #000000;\n",
       "        }</style><table id=\"T_a5b6b55f_860f_11eb_8b12_d46a6a34394c\" ><thead>    <tr>        <th class=\"blank level0\" ></th>        <th class=\"col_heading level0 col0\" >MaintenanceCosts</th>        <th class=\"col_heading level0 col1\" >Doors</th>        <th class=\"col_heading level0 col2\" >Persons</th>        <th class=\"col_heading level0 col3\" >LuggaeBoot</th>        <th class=\"col_heading level0 col4\" >Safety</th>        <th class=\"col_heading level0 col5\" >Rating</th>        <th class=\"col_heading level0 col6\" >Count</th>    </tr>    <tr>        <th class=\"index_name level0\" >Clusters</th>        <th class=\"blank\" ></th>        <th class=\"blank\" ></th>        <th class=\"blank\" ></th>        <th class=\"blank\" ></th>        <th class=\"blank\" ></th>        <th class=\"blank\" ></th>        <th class=\"blank\" ></th>    </tr></thead><tbody>\n",
       "                <tr>\n",
       "                        <th id=\"T_a5b6b55f_860f_11eb_8b12_d46a6a34394clevel0_row0\" class=\"row_heading level0 row0\" >0</th>\n",
       "                        <td id=\"T_a5b6b55f_860f_11eb_8b12_d46a6a34394crow0_col0\" class=\"data row0 col0\" >1.831135</td>\n",
       "                        <td id=\"T_a5b6b55f_860f_11eb_8b12_d46a6a34394crow0_col1\" class=\"data row0 col1\" >3.490765</td>\n",
       "                        <td id=\"T_a5b6b55f_860f_11eb_8b12_d46a6a34394crow0_col2\" class=\"data row0 col2\" >4.498681</td>\n",
       "                        <td id=\"T_a5b6b55f_860f_11eb_8b12_d46a6a34394crow0_col3\" class=\"data row0 col3\" >0.324538</td>\n",
       "                        <td id=\"T_a5b6b55f_860f_11eb_8b12_d46a6a34394crow0_col4\" class=\"data row0 col4\" >1.493404</td>\n",
       "                        <td id=\"T_a5b6b55f_860f_11eb_8b12_d46a6a34394crow0_col5\" class=\"data row0 col5\" >3.390501</td>\n",
       "                        <td id=\"T_a5b6b55f_860f_11eb_8b12_d46a6a34394crow0_col6\" class=\"data row0 col6\" >379</td>\n",
       "            </tr>\n",
       "            <tr>\n",
       "                        <th id=\"T_a5b6b55f_860f_11eb_8b12_d46a6a34394clevel0_row1\" class=\"row_heading level0 row1\" >1</th>\n",
       "                        <td id=\"T_a5b6b55f_860f_11eb_8b12_d46a6a34394crow1_col0\" class=\"data row1 col0\" >1.469697</td>\n",
       "                        <td id=\"T_a5b6b55f_860f_11eb_8b12_d46a6a34394crow1_col1\" class=\"data row1 col1\" >3.464646</td>\n",
       "                        <td id=\"T_a5b6b55f_860f_11eb_8b12_d46a6a34394crow1_col2\" class=\"data row1 col2\" >4.494949</td>\n",
       "                        <td id=\"T_a5b6b55f_860f_11eb_8b12_d46a6a34394crow1_col3\" class=\"data row1 col3\" >1.000000</td>\n",
       "                        <td id=\"T_a5b6b55f_860f_11eb_8b12_d46a6a34394crow1_col4\" class=\"data row1 col4\" >0.030303</td>\n",
       "                        <td id=\"T_a5b6b55f_860f_11eb_8b12_d46a6a34394crow1_col5\" class=\"data row1 col5\" >4.000000</td>\n",
       "                        <td id=\"T_a5b6b55f_860f_11eb_8b12_d46a6a34394crow1_col6\" class=\"data row1 col6\" >396</td>\n",
       "            </tr>\n",
       "            <tr>\n",
       "                        <th id=\"T_a5b6b55f_860f_11eb_8b12_d46a6a34394clevel0_row2\" class=\"row_heading level0 row2\" >2</th>\n",
       "                        <td id=\"T_a5b6b55f_860f_11eb_8b12_d46a6a34394crow2_col0\" class=\"data row2 col0\" >1.159892</td>\n",
       "                        <td id=\"T_a5b6b55f_860f_11eb_8b12_d46a6a34394crow2_col1\" class=\"data row2 col1\" >3.547425</td>\n",
       "                        <td id=\"T_a5b6b55f_860f_11eb_8b12_d46a6a34394crow2_col2\" class=\"data row2 col2\" >4.517615</td>\n",
       "                        <td id=\"T_a5b6b55f_860f_11eb_8b12_d46a6a34394crow2_col3\" class=\"data row2 col3\" >1.672087</td>\n",
       "                        <td id=\"T_a5b6b55f_860f_11eb_8b12_d46a6a34394crow2_col4\" class=\"data row2 col4\" >1.533875</td>\n",
       "                        <td id=\"T_a5b6b55f_860f_11eb_8b12_d46a6a34394crow2_col5\" class=\"data row2 col5\" >2.672087</td>\n",
       "                        <td id=\"T_a5b6b55f_860f_11eb_8b12_d46a6a34394crow2_col6\" class=\"data row2 col6\" >369</td>\n",
       "            </tr>\n",
       "            <tr>\n",
       "                        <th id=\"T_a5b6b55f_860f_11eb_8b12_d46a6a34394clevel0_row3\" class=\"row_heading level0 row3\" >3</th>\n",
       "                        <td id=\"T_a5b6b55f_860f_11eb_8b12_d46a6a34394crow3_col0\" class=\"data row3 col0\" >1.864865</td>\n",
       "                        <td id=\"T_a5b6b55f_860f_11eb_8b12_d46a6a34394crow3_col1\" class=\"data row3 col1\" >3.500000</td>\n",
       "                        <td id=\"T_a5b6b55f_860f_11eb_8b12_d46a6a34394crow3_col2\" class=\"data row3 col2\" >2.054054</td>\n",
       "                        <td id=\"T_a5b6b55f_860f_11eb_8b12_d46a6a34394crow3_col3\" class=\"data row3 col3\" >1.675676</td>\n",
       "                        <td id=\"T_a5b6b55f_860f_11eb_8b12_d46a6a34394crow3_col4\" class=\"data row3 col4\" >1.000000</td>\n",
       "                        <td id=\"T_a5b6b55f_860f_11eb_8b12_d46a6a34394crow3_col5\" class=\"data row3 col5\" >4.000000</td>\n",
       "                        <td id=\"T_a5b6b55f_860f_11eb_8b12_d46a6a34394crow3_col6\" class=\"data row3 col6\" >296</td>\n",
       "            </tr>\n",
       "            <tr>\n",
       "                        <th id=\"T_a5b6b55f_860f_11eb_8b12_d46a6a34394clevel0_row4\" class=\"row_heading level0 row4\" >4</th>\n",
       "                        <td id=\"T_a5b6b55f_860f_11eb_8b12_d46a6a34394crow4_col0\" class=\"data row4 col0\" >1.166667</td>\n",
       "                        <td id=\"T_a5b6b55f_860f_11eb_8b12_d46a6a34394crow4_col1\" class=\"data row4 col1\" >3.500000</td>\n",
       "                        <td id=\"T_a5b6b55f_860f_11eb_8b12_d46a6a34394crow4_col2\" class=\"data row4 col2\" >2.000000</td>\n",
       "                        <td id=\"T_a5b6b55f_860f_11eb_8b12_d46a6a34394crow4_col3\" class=\"data row4 col3\" >0.333333</td>\n",
       "                        <td id=\"T_a5b6b55f_860f_11eb_8b12_d46a6a34394crow4_col4\" class=\"data row4 col4\" >1.000000</td>\n",
       "                        <td id=\"T_a5b6b55f_860f_11eb_8b12_d46a6a34394crow4_col5\" class=\"data row4 col5\" >4.000000</td>\n",
       "                        <td id=\"T_a5b6b55f_860f_11eb_8b12_d46a6a34394crow4_col6\" class=\"data row4 col6\" >288</td>\n",
       "            </tr>\n",
       "    </tbody></table>"
      ],
      "text/plain": [
       "<pandas.io.formats.style.Styler at 0x197dcba3d30>"
      ]
     },
     "metadata": {},
     "output_type": "display_data"
    },
    {
     "data": {
      "image/png": "[encoded data removed]",
      "text/plain": [
       "<Figure size 432x288 with 1 Axes>"
      ]
     },
     "metadata": {
      "needs_background": "light"
     },
     "output_type": "display_data"
    },
    {
     "name": "stdout",
     "output_type": "stream",
     "text": [
      "\n",
      "\n",
      "KMeans with 6 Clusters\n"
     ]
    },
    {
     "data": {
      "text/html": [
       "<style  type=\"text/css\" >\n",
       "#T_a62e25f9_860f_11eb_906a_d46a6a34394crow0_col0,#T_a62e25f9_860f_11eb_906a_d46a6a34394crow5_col0{\n",
       "            background-color:  #79abd0;\n",
       "            color:  #000000;\n",
       "        }#T_a62e25f9_860f_11eb_906a_d46a6a34394crow0_col1,#T_a62e25f9_860f_11eb_906a_d46a6a34394crow0_col2,#T_a62e25f9_860f_11eb_906a_d46a6a34394crow2_col4,#T_a62e25f9_860f_11eb_906a_d46a6a34394crow3_col3,#T_a62e25f9_860f_11eb_906a_d46a6a34394crow3_col6,#T_a62e25f9_860f_11eb_906a_d46a6a34394crow4_col0,#T_a62e25f9_860f_11eb_906a_d46a6a34394crow4_col5,#T_a62e25f9_860f_11eb_906a_d46a6a34394crow5_col2{\n",
       "            background-color:  #fff7fb;\n",
       "            color:  #000000;\n",
       "        }#T_a62e25f9_860f_11eb_906a_d46a6a34394crow0_col3{\n",
       "            background-color:  #6ba5cd;\n",
       "            color:  #000000;\n",
       "        }#T_a62e25f9_860f_11eb_906a_d46a6a34394crow0_col4,#T_a62e25f9_860f_11eb_906a_d46a6a34394crow0_col5,#T_a62e25f9_860f_11eb_906a_d46a6a34394crow1_col0,#T_a62e25f9_860f_11eb_906a_d46a6a34394crow1_col2,#T_a62e25f9_860f_11eb_906a_d46a6a34394crow1_col3,#T_a62e25f9_860f_11eb_906a_d46a6a34394crow2_col5,#T_a62e25f9_860f_11eb_906a_d46a6a34394crow2_col6,#T_a62e25f9_860f_11eb_906a_d46a6a34394crow3_col2,#T_a62e25f9_860f_11eb_906a_d46a6a34394crow4_col2,#T_a62e25f9_860f_11eb_906a_d46a6a34394crow5_col1,#T_a62e25f9_860f_11eb_906a_d46a6a34394crow5_col5{\n",
       "            background-color:  #023858;\n",
       "            color:  #f1f1f1;\n",
       "        }#T_a62e25f9_860f_11eb_906a_d46a6a34394crow0_col6,#T_a62e25f9_860f_11eb_906a_d46a6a34394crow5_col6{\n",
       "            background-color:  #b5c4df;\n",
       "            color:  #000000;\n",
       "        }#T_a62e25f9_860f_11eb_906a_d46a6a34394crow1_col1{\n",
       "            background-color:  #a9bfdc;\n",
       "            color:  #000000;\n",
       "        }#T_a62e25f9_860f_11eb_906a_d46a6a34394crow1_col4{\n",
       "            background-color:  #045687;\n",
       "            color:  #f1f1f1;\n",
       "        }#T_a62e25f9_860f_11eb_906a_d46a6a34394crow1_col5,#T_a62e25f9_860f_11eb_906a_d46a6a34394crow2_col3{\n",
       "            background-color:  #2685bb;\n",
       "            color:  #000000;\n",
       "        }#T_a62e25f9_860f_11eb_906a_d46a6a34394crow1_col6{\n",
       "            background-color:  #f4edf6;\n",
       "            color:  #000000;\n",
       "        }#T_a62e25f9_860f_11eb_906a_d46a6a34394crow2_col0{\n",
       "            background-color:  #80aed2;\n",
       "            color:  #000000;\n",
       "        }#T_a62e25f9_860f_11eb_906a_d46a6a34394crow2_col1{\n",
       "            background-color:  #b1c2de;\n",
       "            color:  #000000;\n",
       "        }#T_a62e25f9_860f_11eb_906a_d46a6a34394crow2_col2{\n",
       "            background-color:  #02395a;\n",
       "            color:  #f1f1f1;\n",
       "        }#T_a62e25f9_860f_11eb_906a_d46a6a34394crow3_col0{\n",
       "            background-color:  #62a2cb;\n",
       "            color:  #000000;\n",
       "        }#T_a62e25f9_860f_11eb_906a_d46a6a34394crow3_col1{\n",
       "            background-color:  #97b7d7;\n",
       "            color:  #000000;\n",
       "        }#T_a62e25f9_860f_11eb_906a_d46a6a34394crow3_col4{\n",
       "            background-color:  #045b8e;\n",
       "            color:  #f1f1f1;\n",
       "        }#T_a62e25f9_860f_11eb_906a_d46a6a34394crow3_col5{\n",
       "            background-color:  #0872b1;\n",
       "            color:  #f1f1f1;\n",
       "        }#T_a62e25f9_860f_11eb_906a_d46a6a34394crow4_col1{\n",
       "            background-color:  #034b76;\n",
       "            color:  #f1f1f1;\n",
       "        }#T_a62e25f9_860f_11eb_906a_d46a6a34394crow4_col3{\n",
       "            background-color:  #034973;\n",
       "            color:  #f1f1f1;\n",
       "        }#T_a62e25f9_860f_11eb_906a_d46a6a34394crow4_col4{\n",
       "            background-color:  #03476f;\n",
       "            color:  #f1f1f1;\n",
       "        }#T_a62e25f9_860f_11eb_906a_d46a6a34394crow4_col6{\n",
       "            background-color:  #d2d2e7;\n",
       "            color:  #000000;\n",
       "        }#T_a62e25f9_860f_11eb_906a_d46a6a34394crow5_col3{\n",
       "            background-color:  #04649e;\n",
       "            color:  #f1f1f1;\n",
       "        }#T_a62e25f9_860f_11eb_906a_d46a6a34394crow5_col4{\n",
       "            background-color:  #dfddec;\n",
       "            color:  #000000;\n",
       "        }</style><table id=\"T_a62e25f9_860f_11eb_906a_d46a6a34394c\" ><thead>    <tr>        <th class=\"blank level0\" ></th>        <th class=\"col_heading level0 col0\" >MaintenanceCosts</th>        <th class=\"col_heading level0 col1\" >Doors</th>        <th class=\"col_heading level0 col2\" >Persons</th>        <th class=\"col_heading level0 col3\" >LuggaeBoot</th>        <th class=\"col_heading level0 col4\" >Safety</th>        <th class=\"col_heading level0 col5\" >Rating</th>        <th class=\"col_heading level0 col6\" >Count</th>    </tr>    <tr>        <th class=\"index_name level0\" >Clusters</th>        <th class=\"blank\" ></th>        <th class=\"blank\" ></th>        <th class=\"blank\" ></th>        <th class=\"blank\" ></th>        <th class=\"blank\" ></th>        <th class=\"blank\" ></th>        <th class=\"blank\" ></th>    </tr></thead><tbody>\n",
       "                <tr>\n",
       "                        <th id=\"T_a62e25f9_860f_11eb_906a_d46a6a34394clevel0_row0\" class=\"row_heading level0 row0\" >0</th>\n",
       "                        <td id=\"T_a62e25f9_860f_11eb_906a_d46a6a34394crow0_col0\" class=\"data row0 col0\" >1.500000</td>\n",
       "                        <td id=\"T_a62e25f9_860f_11eb_906a_d46a6a34394crow0_col1\" class=\"data row0 col1\" >3.388889</td>\n",
       "                        <td id=\"T_a62e25f9_860f_11eb_906a_d46a6a34394crow0_col2\" class=\"data row0 col2\" >2.000000</td>\n",
       "                        <td id=\"T_a62e25f9_860f_11eb_906a_d46a6a34394crow0_col3\" class=\"data row0 col3\" >0.777778</td>\n",
       "                        <td id=\"T_a62e25f9_860f_11eb_906a_d46a6a34394crow0_col4\" class=\"data row0 col4\" >1.666667</td>\n",
       "                        <td id=\"T_a62e25f9_860f_11eb_906a_d46a6a34394crow0_col5\" class=\"data row0 col5\" >4.000000</td>\n",
       "                        <td id=\"T_a62e25f9_860f_11eb_906a_d46a6a34394crow0_col6\" class=\"data row0 col6\" >288</td>\n",
       "            </tr>\n",
       "            <tr>\n",
       "                        <th id=\"T_a62e25f9_860f_11eb_906a_d46a6a34394clevel0_row1\" class=\"row_heading level0 row1\" >1</th>\n",
       "                        <td id=\"T_a62e25f9_860f_11eb_906a_d46a6a34394crow1_col0\" class=\"data row1 col0\" >2.518219</td>\n",
       "                        <td id=\"T_a62e25f9_860f_11eb_906a_d46a6a34394crow1_col1\" class=\"data row1 col1\" >3.469636</td>\n",
       "                        <td id=\"T_a62e25f9_860f_11eb_906a_d46a6a34394crow1_col2\" class=\"data row1 col2\" >4.497976</td>\n",
       "                        <td id=\"T_a62e25f9_860f_11eb_906a_d46a6a34394crow1_col3\" class=\"data row1 col3\" >1.502024</td>\n",
       "                        <td id=\"T_a62e25f9_860f_11eb_906a_d46a6a34394crow1_col4\" class=\"data row1 col4\" >1.481781</td>\n",
       "                        <td id=\"T_a62e25f9_860f_11eb_906a_d46a6a34394crow1_col5\" class=\"data row1 col5\" >3.421053</td>\n",
       "                        <td id=\"T_a62e25f9_860f_11eb_906a_d46a6a34394crow1_col6\" class=\"data row1 col6\" >247</td>\n",
       "            </tr>\n",
       "            <tr>\n",
       "                        <th id=\"T_a62e25f9_860f_11eb_906a_d46a6a34394clevel0_row2\" class=\"row_heading level0 row2\" >2</th>\n",
       "                        <td id=\"T_a62e25f9_860f_11eb_906a_d46a6a34394crow2_col0\" class=\"data row2 col0\" >1.469697</td>\n",
       "                        <td id=\"T_a62e25f9_860f_11eb_906a_d46a6a34394crow2_col1\" class=\"data row2 col1\" >3.464646</td>\n",
       "                        <td id=\"T_a62e25f9_860f_11eb_906a_d46a6a34394crow2_col2\" class=\"data row2 col2\" >4.494949</td>\n",
       "                        <td id=\"T_a62e25f9_860f_11eb_906a_d46a6a34394crow2_col3\" class=\"data row2 col3\" >1.000000</td>\n",
       "                        <td id=\"T_a62e25f9_860f_11eb_906a_d46a6a34394crow2_col4\" class=\"data row2 col4\" >0.030303</td>\n",
       "                        <td id=\"T_a62e25f9_860f_11eb_906a_d46a6a34394crow2_col5\" class=\"data row2 col5\" >4.000000</td>\n",
       "                        <td id=\"T_a62e25f9_860f_11eb_906a_d46a6a34394crow2_col6\" class=\"data row2 col6\" >396</td>\n",
       "            </tr>\n",
       "            <tr>\n",
       "                        <th id=\"T_a62e25f9_860f_11eb_906a_d46a6a34394clevel0_row3\" class=\"row_heading level0 row3\" >3</th>\n",
       "                        <td id=\"T_a62e25f9_860f_11eb_906a_d46a6a34394crow3_col0\" class=\"data row3 col0\" >1.604255</td>\n",
       "                        <td id=\"T_a62e25f9_860f_11eb_906a_d46a6a34394crow3_col1\" class=\"data row3 col1\" >3.480851</td>\n",
       "                        <td id=\"T_a62e25f9_860f_11eb_906a_d46a6a34394crow3_col2\" class=\"data row3 col2\" >4.506383</td>\n",
       "                        <td id=\"T_a62e25f9_860f_11eb_906a_d46a6a34394crow3_col3\" class=\"data row3 col3\" >0.000000</td>\n",
       "                        <td id=\"T_a62e25f9_860f_11eb_906a_d46a6a34394crow3_col4\" class=\"data row3 col4\" >1.455319</td>\n",
       "                        <td id=\"T_a62e25f9_860f_11eb_906a_d46a6a34394crow3_col5\" class=\"data row3 col5\" >3.553191</td>\n",
       "                        <td id=\"T_a62e25f9_860f_11eb_906a_d46a6a34394crow3_col6\" class=\"data row3 col6\" >235</td>\n",
       "            </tr>\n",
       "            <tr>\n",
       "                        <th id=\"T_a62e25f9_860f_11eb_906a_d46a6a34394clevel0_row4\" class=\"row_heading level0 row4\" >4</th>\n",
       "                        <td id=\"T_a62e25f9_860f_11eb_906a_d46a6a34394crow4_col0\" class=\"data row4 col0\" >0.536496</td>\n",
       "                        <td id=\"T_a62e25f9_860f_11eb_906a_d46a6a34394crow4_col1\" class=\"data row4 col1\" >3.594891</td>\n",
       "                        <td id=\"T_a62e25f9_860f_11eb_906a_d46a6a34394crow4_col2\" class=\"data row4 col2\" >4.503650</td>\n",
       "                        <td id=\"T_a62e25f9_860f_11eb_906a_d46a6a34394crow4_col3\" class=\"data row4 col3\" >1.405109</td>\n",
       "                        <td id=\"T_a62e25f9_860f_11eb_906a_d46a6a34394crow4_col4\" class=\"data row4 col4\" >1.576642</td>\n",
       "                        <td id=\"T_a62e25f9_860f_11eb_906a_d46a6a34394crow4_col5\" class=\"data row4 col5\" >2.273723</td>\n",
       "                        <td id=\"T_a62e25f9_860f_11eb_906a_d46a6a34394crow4_col6\" class=\"data row4 col6\" >274</td>\n",
       "            </tr>\n",
       "            <tr>\n",
       "                        <th id=\"T_a62e25f9_860f_11eb_906a_d46a6a34394clevel0_row5\" class=\"row_heading level0 row5\" >5</th>\n",
       "                        <td id=\"T_a62e25f9_860f_11eb_906a_d46a6a34394crow5_col0\" class=\"data row5 col0\" >1.500000</td>\n",
       "                        <td id=\"T_a62e25f9_860f_11eb_906a_d46a6a34394crow5_col1\" class=\"data row5 col1\" >3.611111</td>\n",
       "                        <td id=\"T_a62e25f9_860f_11eb_906a_d46a6a34394crow5_col2\" class=\"data row5 col2\" >2.000000</td>\n",
       "                        <td id=\"T_a62e25f9_860f_11eb_906a_d46a6a34394crow5_col3\" class=\"data row5 col3\" >1.222222</td>\n",
       "                        <td id=\"T_a62e25f9_860f_11eb_906a_d46a6a34394crow5_col4\" class=\"data row5 col4\" >0.333333</td>\n",
       "                        <td id=\"T_a62e25f9_860f_11eb_906a_d46a6a34394crow5_col5\" class=\"data row5 col5\" >4.000000</td>\n",
       "                        <td id=\"T_a62e25f9_860f_11eb_906a_d46a6a34394crow5_col6\" class=\"data row5 col6\" >288</td>\n",
       "            </tr>\n",
       "    </tbody></table>"
      ],
      "text/plain": [
       "<pandas.io.formats.style.Styler at 0x197e5a12100>"
      ]
     },
     "metadata": {},
     "output_type": "display_data"
    },
    {
     "data": {
      "image/png": "[encoded data removed]",
      "text/plain": [
       "<Figure size 432x288 with 1 Axes>"
      ]
     },
     "metadata": {
      "needs_background": "light"
     },
     "output_type": "display_data"
    },
    {
     "name": "stdout",
     "output_type": "stream",
     "text": [
      "\n",
      "\n"
     ]
    }
   ],
   "source": [
    "for n in range(2, 7):\n",
    "    print(f\"KMeans with {n} Clusters\")\n",
    "    km = KMeans(n_clusters=n)\n",
    "    pred = km.fit_predict(X_std)\n",
    "    cluster_centers = pd.DataFrame(\n",
    "        scaler.inverse_transform(km.cluster_centers_), columns=X.columns\n",
    "    ).rename_axis(\"Clusters\")\n",
    "    cluster_centers[\"Count\"] = pd.Series(pred).value_counts()\n",
    "    display(cluster_centers.style.background_gradient())\n",
    "\n",
    "    pca_centers = pca.transform(km.cluster_centers_)\n",
    "    sns.scatterplot(x=pca_df[\"c0\"], y=pca_df[\"c1\"], hue=pred, palette=\"Set2\")\n",
    "    sns.scatterplot(x=pca_centers[:, 0], y=pca_centers[:, 1], color=\"black\")\n",
    "    plt.legend()\n",
    "    plt.show()\n",
    "    print(\"\\n\")"
   ]
  },
  {
   "cell_type": "code",
   "execution_count": 386,
   "metadata": {},
   "outputs": [
    {
     "data": {
      "text/html": [
       "<style  type=\"text/css\" >\n",
       "#T_db1ae478_8610_11eb_87b4_d46a6a34394crow0_col0{\n",
       "            background-color:  #79abd0;\n",
       "            color:  #000000;\n",
       "        }#T_db1ae478_8610_11eb_87b4_d46a6a34394crow0_col1,#T_db1ae478_8610_11eb_87b4_d46a6a34394crow0_col3,#T_db1ae478_8610_11eb_87b4_d46a6a34394crow0_col4{\n",
       "            background-color:  #6da6cd;\n",
       "            color:  #000000;\n",
       "        }#T_db1ae478_8610_11eb_87b4_d46a6a34394crow0_col2,#T_db1ae478_8610_11eb_87b4_d46a6a34394crow1_col1,#T_db1ae478_8610_11eb_87b4_d46a6a34394crow1_col3,#T_db1ae478_8610_11eb_87b4_d46a6a34394crow1_col4,#T_db1ae478_8610_11eb_87b4_d46a6a34394crow1_col6,#T_db1ae478_8610_11eb_87b4_d46a6a34394crow2_col0,#T_db1ae478_8610_11eb_87b4_d46a6a34394crow2_col5{\n",
       "            background-color:  #fff7fb;\n",
       "            color:  #000000;\n",
       "        }#T_db1ae478_8610_11eb_87b4_d46a6a34394crow0_col5,#T_db1ae478_8610_11eb_87b4_d46a6a34394crow1_col0,#T_db1ae478_8610_11eb_87b4_d46a6a34394crow2_col1,#T_db1ae478_8610_11eb_87b4_d46a6a34394crow2_col2,#T_db1ae478_8610_11eb_87b4_d46a6a34394crow2_col3,#T_db1ae478_8610_11eb_87b4_d46a6a34394crow2_col4,#T_db1ae478_8610_11eb_87b4_d46a6a34394crow2_col6{\n",
       "            background-color:  #023858;\n",
       "            color:  #f1f1f1;\n",
       "        }#T_db1ae478_8610_11eb_87b4_d46a6a34394crow0_col6{\n",
       "            background-color:  #73a9cf;\n",
       "            color:  #000000;\n",
       "        }#T_db1ae478_8610_11eb_87b4_d46a6a34394crow1_col2{\n",
       "            background-color:  #02395a;\n",
       "            color:  #f1f1f1;\n",
       "        }#T_db1ae478_8610_11eb_87b4_d46a6a34394crow1_col5{\n",
       "            background-color:  #023c5f;\n",
       "            color:  #f1f1f1;\n",
       "        }</style><table id=\"T_db1ae478_8610_11eb_87b4_d46a6a34394c\" ><thead>    <tr>        <th class=\"blank level0\" ></th>        <th class=\"col_heading level0 col0\" >MaintenanceCosts</th>        <th class=\"col_heading level0 col1\" >Doors</th>        <th class=\"col_heading level0 col2\" >Persons</th>        <th class=\"col_heading level0 col3\" >LuggaeBoot</th>        <th class=\"col_heading level0 col4\" >Safety</th>        <th class=\"col_heading level0 col5\" >Rating</th>        <th class=\"col_heading level0 col6\" >Count</th>    </tr>    <tr>        <th class=\"index_name level0\" >Clusters</th>        <th class=\"blank\" ></th>        <th class=\"blank\" ></th>        <th class=\"blank\" ></th>        <th class=\"blank\" ></th>        <th class=\"blank\" ></th>        <th class=\"blank\" ></th>        <th class=\"blank\" ></th>    </tr></thead><tbody>\n",
       "                <tr>\n",
       "                        <th id=\"T_db1ae478_8610_11eb_87b4_d46a6a34394clevel0_row0\" class=\"row_heading level0 row0\" >0</th>\n",
       "                        <td id=\"T_db1ae478_8610_11eb_87b4_d46a6a34394crow0_col0\" class=\"data row0 col0\" >1.500000</td>\n",
       "                        <td id=\"T_db1ae478_8610_11eb_87b4_d46a6a34394crow0_col1\" class=\"data row0 col1\" >3.500000</td>\n",
       "                        <td id=\"T_db1ae478_8610_11eb_87b4_d46a6a34394crow0_col2\" class=\"data row0 col2\" >2.000000</td>\n",
       "                        <td id=\"T_db1ae478_8610_11eb_87b4_d46a6a34394crow0_col3\" class=\"data row0 col3\" >1.000000</td>\n",
       "                        <td id=\"T_db1ae478_8610_11eb_87b4_d46a6a34394crow0_col4\" class=\"data row0 col4\" >1.000000</td>\n",
       "                        <td id=\"T_db1ae478_8610_11eb_87b4_d46a6a34394crow0_col5\" class=\"data row0 col5\" >4.000000</td>\n",
       "                        <td id=\"T_db1ae478_8610_11eb_87b4_d46a6a34394crow0_col6\" class=\"data row0 col6\" >576</td>\n",
       "            </tr>\n",
       "            <tr>\n",
       "                        <th id=\"T_db1ae478_8610_11eb_87b4_d46a6a34394clevel0_row1\" class=\"row_heading level0 row1\" >1</th>\n",
       "                        <td id=\"T_db1ae478_8610_11eb_87b4_d46a6a34394crow1_col0\" class=\"data row1 col0\" >1.643494</td>\n",
       "                        <td id=\"T_db1ae478_8610_11eb_87b4_d46a6a34394crow1_col1\" class=\"data row1 col1\" >3.427807</td>\n",
       "                        <td id=\"T_db1ae478_8610_11eb_87b4_d46a6a34394crow1_col2\" class=\"data row1 col2\" >4.493761</td>\n",
       "                        <td id=\"T_db1ae478_8610_11eb_87b4_d46a6a34394crow1_col3\" class=\"data row1 col3\" >0.852050</td>\n",
       "                        <td id=\"T_db1ae478_8610_11eb_87b4_d46a6a34394crow1_col4\" class=\"data row1 col4\" >0.315508</td>\n",
       "                        <td id=\"T_db1ae478_8610_11eb_87b4_d46a6a34394crow1_col5\" class=\"data row1 col5\" >3.976827</td>\n",
       "                        <td id=\"T_db1ae478_8610_11eb_87b4_d46a6a34394crow1_col6\" class=\"data row1 col6\" >560</td>\n",
       "            </tr>\n",
       "            <tr>\n",
       "                        <th id=\"T_db1ae478_8610_11eb_87b4_d46a6a34394clevel0_row2\" class=\"row_heading level0 row2\" >2</th>\n",
       "                        <td id=\"T_db1ae478_8610_11eb_87b4_d46a6a34394crow2_col0\" class=\"data row2 col0\" >1.363790</td>\n",
       "                        <td id=\"T_db1ae478_8610_11eb_87b4_d46a6a34394crow2_col1\" class=\"data row2 col1\" >3.568528</td>\n",
       "                        <td id=\"T_db1ae478_8610_11eb_87b4_d46a6a34394crow2_col2\" class=\"data row2 col2\" >4.505922</td>\n",
       "                        <td id=\"T_db1ae478_8610_11eb_87b4_d46a6a34394crow2_col3\" class=\"data row2 col3\" >1.140440</td>\n",
       "                        <td id=\"T_db1ae478_8610_11eb_87b4_d46a6a34394crow2_col4\" class=\"data row2 col4\" >1.649746</td>\n",
       "                        <td id=\"T_db1ae478_8610_11eb_87b4_d46a6a34394crow2_col5\" class=\"data row2 col5\" >2.802030</td>\n",
       "                        <td id=\"T_db1ae478_8610_11eb_87b4_d46a6a34394crow2_col6\" class=\"data row2 col6\" >592</td>\n",
       "            </tr>\n",
       "    </tbody></table>"
      ],
      "text/plain": [
       "<pandas.io.formats.style.Styler at 0x197dce2dca0>"
      ]
     },
     "metadata": {},
     "output_type": "display_data"
    },
    {
     "data": {
      "image/png": "[encoded data removed]",
      "text/plain": [
       "<Figure size 432x288 with 1 Axes>"
      ]
     },
     "metadata": {
      "needs_background": "light"
     },
     "output_type": "display_data"
    }
   ],
   "source": [
    "km3 = KMeans(n_clusters=3, random_state=42)\n",
    "km3_preds = km3.fit_predict(X_std)\n",
    "Carevaluation[\"clusters\"] = km3_preds\n",
    "km3_cluster_centers = pd.DataFrame(\n",
    "    scaler.inverse_transform(km3.cluster_centers_), columns=X_std.columns\n",
    ").rename_axis(\"Clusters\")\n",
    "km3_cluster_centers[\"Count\"] = pd.Series(km3_preds).value_counts()\n",
    "display(km3_cluster_centers.style.background_gradient())\n",
    "\n",
    "pca_centers = pca.transform(km3.cluster_centers_)\n",
    "sns.scatterplot(x=pca_df[\"c0\"], y=pca_df[\"c1\"], hue=km3_preds, palette=\"Set2\")\n",
    "sns.scatterplot(x=pca_centers[:, 0], y=pca_centers[:, 1], color=\"yellow\")\n",
    "plt.legend()\n",
    "plt.show()"
   ]
  },
  {
   "cell_type": "code",
   "execution_count": 382,
   "metadata": {},
   "outputs": [
    {
     "data": {
      "text/html": [
       "<div>\n",
       "<style scoped>\n",
       "    .dataframe tbody tr th:only-of-type {\n",
       "        vertical-align: middle;\n",
       "    }\n",
       "\n",
       "    .dataframe tbody tr th {\n",
       "        vertical-align: top;\n",
       "    }\n",
       "\n",
       "    .dataframe thead th {\n",
       "        text-align: right;\n",
       "    }\n",
       "</style>\n",
       "<table border=\"1\" class=\"dataframe\">\n",
       "  <thead>\n",
       "    <tr style=\"text-align: right;\">\n",
       "      <th></th>\n",
       "      <th>PurchasePrice</th>\n",
       "      <th>MaintenanceCosts</th>\n",
       "      <th>Doors</th>\n",
       "      <th>Persons</th>\n",
       "      <th>LuggaeBoot</th>\n",
       "      <th>Safety</th>\n",
       "      <th>Rating</th>\n",
       "      <th>clusters</th>\n",
       "    </tr>\n",
       "    <tr>\n",
       "      <th>VehicleNumber</th>\n",
       "      <th></th>\n",
       "      <th></th>\n",
       "      <th></th>\n",
       "      <th></th>\n",
       "      <th></th>\n",
       "      <th></th>\n",
       "      <th></th>\n",
       "      <th></th>\n",
       "    </tr>\n",
       "  </thead>\n",
       "  <tbody>\n",
       "    <tr>\n",
       "      <th>10</th>\n",
       "      <td>3</td>\n",
       "      <td>3</td>\n",
       "      <td>2</td>\n",
       "      <td>4</td>\n",
       "      <td>0</td>\n",
       "      <td>0</td>\n",
       "      <td>4</td>\n",
       "      <td>2</td>\n",
       "    </tr>\n",
       "    <tr>\n",
       "      <th>11</th>\n",
       "      <td>3</td>\n",
       "      <td>3</td>\n",
       "      <td>2</td>\n",
       "      <td>4</td>\n",
       "      <td>0</td>\n",
       "      <td>1</td>\n",
       "      <td>4</td>\n",
       "      <td>2</td>\n",
       "    </tr>\n",
       "    <tr>\n",
       "      <th>13</th>\n",
       "      <td>3</td>\n",
       "      <td>3</td>\n",
       "      <td>2</td>\n",
       "      <td>4</td>\n",
       "      <td>1</td>\n",
       "      <td>0</td>\n",
       "      <td>4</td>\n",
       "      <td>2</td>\n",
       "    </tr>\n",
       "    <tr>\n",
       "      <th>14</th>\n",
       "      <td>3</td>\n",
       "      <td>3</td>\n",
       "      <td>2</td>\n",
       "      <td>4</td>\n",
       "      <td>1</td>\n",
       "      <td>1</td>\n",
       "      <td>4</td>\n",
       "      <td>2</td>\n",
       "    </tr>\n",
       "    <tr>\n",
       "      <th>16</th>\n",
       "      <td>3</td>\n",
       "      <td>3</td>\n",
       "      <td>2</td>\n",
       "      <td>4</td>\n",
       "      <td>2</td>\n",
       "      <td>0</td>\n",
       "      <td>4</td>\n",
       "      <td>2</td>\n",
       "    </tr>\n",
       "    <tr>\n",
       "      <th>...</th>\n",
       "      <td>...</td>\n",
       "      <td>...</td>\n",
       "      <td>...</td>\n",
       "      <td>...</td>\n",
       "      <td>...</td>\n",
       "      <td>...</td>\n",
       "      <td>...</td>\n",
       "      <td>...</td>\n",
       "    </tr>\n",
       "    <tr>\n",
       "      <th>1714</th>\n",
       "      <td>0</td>\n",
       "      <td>0</td>\n",
       "      <td>5</td>\n",
       "      <td>4</td>\n",
       "      <td>1</td>\n",
       "      <td>0</td>\n",
       "      <td>4</td>\n",
       "      <td>2</td>\n",
       "    </tr>\n",
       "    <tr>\n",
       "      <th>1717</th>\n",
       "      <td>0</td>\n",
       "      <td>0</td>\n",
       "      <td>5</td>\n",
       "      <td>4</td>\n",
       "      <td>2</td>\n",
       "      <td>0</td>\n",
       "      <td>4</td>\n",
       "      <td>2</td>\n",
       "    </tr>\n",
       "    <tr>\n",
       "      <th>1720</th>\n",
       "      <td>0</td>\n",
       "      <td>0</td>\n",
       "      <td>5</td>\n",
       "      <td>5</td>\n",
       "      <td>0</td>\n",
       "      <td>0</td>\n",
       "      <td>4</td>\n",
       "      <td>2</td>\n",
       "    </tr>\n",
       "    <tr>\n",
       "      <th>1723</th>\n",
       "      <td>0</td>\n",
       "      <td>0</td>\n",
       "      <td>5</td>\n",
       "      <td>5</td>\n",
       "      <td>1</td>\n",
       "      <td>0</td>\n",
       "      <td>4</td>\n",
       "      <td>2</td>\n",
       "    </tr>\n",
       "    <tr>\n",
       "      <th>1726</th>\n",
       "      <td>0</td>\n",
       "      <td>0</td>\n",
       "      <td>5</td>\n",
       "      <td>5</td>\n",
       "      <td>2</td>\n",
       "      <td>0</td>\n",
       "      <td>4</td>\n",
       "      <td>2</td>\n",
       "    </tr>\n",
       "  </tbody>\n",
       "</table>\n",
       "<p>560 rows × 8 columns</p>\n",
       "</div>"
      ],
      "text/plain": [
       "               PurchasePrice  MaintenanceCosts  Doors  Persons  LuggaeBoot  \\\n",
       "VehicleNumber                                                                \n",
       "10                         3                 3      2        4           0   \n",
       "11                         3                 3      2        4           0   \n",
       "13                         3                 3      2        4           1   \n",
       "14                         3                 3      2        4           1   \n",
       "16                         3                 3      2        4           2   \n",
       "...                      ...               ...    ...      ...         ...   \n",
       "1714                       0                 0      5        4           1   \n",
       "1717                       0                 0      5        4           2   \n",
       "1720                       0                 0      5        5           0   \n",
       "1723                       0                 0      5        5           1   \n",
       "1726                       0                 0      5        5           2   \n",
       "\n",
       "               Safety  Rating  clusters  \n",
       "VehicleNumber                            \n",
       "10                  0       4         2  \n",
       "11                  1       4         2  \n",
       "13                  0       4         2  \n",
       "14                  1       4         2  \n",
       "16                  0       4         2  \n",
       "...               ...     ...       ...  \n",
       "1714                0       4         2  \n",
       "1717                0       4         2  \n",
       "1720                0       4         2  \n",
       "1723                0       4         2  \n",
       "1726                0       4         2  \n",
       "\n",
       "[560 rows x 8 columns]"
      ]
     },
     "execution_count": 382,
     "metadata": {},
     "output_type": "execute_result"
    }
   ],
   "source": [
    "Carevaluation[Carevaluation['clusters']== 2]"
   ]
  },
  {
   "cell_type": "code",
   "execution_count": null,
   "metadata": {},
   "outputs": [],
   "source": []
  }
 ],
 "metadata": {
  "kernelspec": {
   "display_name": "Python 3",
   "language": "python",
   "name": "python3"
  },
  "language_info": {
   "codemirror_mode": {
    "name": "ipython",
    "version": 3
   },
   "file_extension": ".py",
   "mimetype": "text/x-python",
   "name": "python",
   "nbconvert_exporter": "python",
   "pygments_lexer": "ipython3",
   "version": "3.8.3"
  }
 },
 "nbformat": 4,
 "nbformat_minor": 4
}
